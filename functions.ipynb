{
 "cells": [
  {
   "cell_type": "code",
   "execution_count": 1,
   "metadata": {},
   "outputs": [
    {
     "name": "stdin",
     "output_type": "stream",
     "text": [
      "ENTER THE HEIGHT OF SIDE1 45\n",
      "ENTER THE HEIGHT OF SIDE2 25\n"
     ]
    },
    {
     "name": "stdout",
     "output_type": "stream",
     "text": [
      "51.478150704935004\n"
     ]
    }
   ],
   "source": [
    "#85\n",
    "def findHypothenuse(m,n):\n",
    "    h = (((m*m)+(n*n))**(1/2));\n",
    "    return h;\n",
    "m = int(input(\"ENTER THE HEIGHT OF SIDE1\"))\n",
    "n = int(input(\"ENTER THE HEIGHT OF SIDE2\"))\n",
    "print(findHypothenuse(m,n))"
   ]
  },
  {
   "cell_type": "code",
   "execution_count": 2,
   "metadata": {},
   "outputs": [
    {
     "name": "stdout",
     "output_type": "stream",
     "text": [
      "the fare is $ 48.5\n"
     ]
    }
   ],
   "source": [
    "#86\n",
    "basefare = 4.00\n",
    "extrafare = 0.25\n",
    "def taxifare(distance_km):\n",
    "    distance_units = (distance_km*1000)//140\n",
    "    totalfare = distance_units * extrafare\n",
    "    totalfare += basefare\n",
    "    return totalfare\n",
    "print(\"the fare is $\",taxifare(25))"
   ]
  },
  {
   "cell_type": "code",
   "execution_count": 3,
   "metadata": {},
   "outputs": [
    {
     "name": "stdin",
     "output_type": "stream",
     "text": [
      "enter the value 5\n",
      "ENTER THE VALUE 6\n",
      "ENTER THE VALUE 9\n"
     ]
    },
    {
     "name": "stdout",
     "output_type": "stream",
     "text": [
      "THE MEDIAN IS: 6.0\n"
     ]
    }
   ],
   "source": [
    "#88\n",
    "x = float(input(\"enter the value\"))\n",
    "y = float(input(\"ENTER THE VALUE\"))\n",
    "z = float(input(\"ENTER THE VALUE\"))\n",
    "def Median(x,y,z):\n",
    "    return (x+y+z) - min(x,y,z) - max(x,y,z)\n",
    "print(\"THE MEDIAN IS:\", Median( x,y,z))"
   ]
  },
  {
   "cell_type": "code",
   "execution_count": 5,
   "metadata": {},
   "outputs": [
    {
     "name": "stdout",
     "output_type": "stream",
     "text": [
      "second\n"
     ]
    }
   ],
   "source": [
    "#89\n",
    "def ordinal(n):\n",
    "    if n == 1:\n",
    "        result = 'first'\n",
    "    elif n == 2:\n",
    "        result = 'second'\n",
    "    elif n == 3:\n",
    "        result = 'third'\n",
    "    else:\n",
    "        result = -1\n",
    "    return result\n",
    "print(ordinal(2))"
   ]
  },
  {
   "cell_type": "code",
   "execution_count": 6,
   "metadata": {},
   "outputs": [
    {
     "name": "stdin",
     "output_type": "stream",
     "text": [
      "ENTER THE DAY 5\n"
     ]
    },
    {
     "name": "stdout",
     "output_type": "stream",
     "text": [
      "Five golden rings,\n",
      "Four calling birds,\n",
      "Three French hens,\n",
      "Two turtle doves,\n",
      "And a \n",
      "On the 1 day of Christmas\n",
      "my true love sent to me:\n",
      "On the 2 day of Christmas\n",
      "my true love sent to me:\n",
      "On the 3 day of Christmas\n",
      "my true love sent to me:\n",
      "On the 4 day of Christmas\n",
      "my true love sent to me:\n",
      "On the 5 day of Christmas\n",
      "my true love sent to me:\n",
      "On the 6 day of Christmas\n",
      "my true love sent to me:\n",
      "On the 7 day of Christmas\n",
      "my true love sent to me:\n",
      "On the 8 day of Christmas\n",
      "my true love sent to me:\n",
      "On the 9 day of Christmas\n",
      "my true love sent to me:\n",
      "On the 10 day of Christmas\n",
      "my true love sent to me:\n",
      "On the 11 day of Christmas\n",
      "my true love sent to me:\n",
      "On the 12 day of Christmas\n",
      "my true love sent to me:\n"
     ]
    }
   ],
   "source": [
    "#90\n",
    "n = int(input(\"ENTER THE DAY\"))\n",
    "def displayVerse(n):\n",
    "    print(\"On the\", n , \"day of Christmas\")\n",
    "    print(\"my true love sent to me:\")\n",
    "if n >= 12:\n",
    "    print(\"Twelve drummers drumming,\")\n",
    "if n >= 11:\n",
    "    print(\"Eleven pipers piping,\")\n",
    "if n >= 10:\n",
    "    print(\"Ten lords a-leaping,\")\n",
    "if n >= 9:\n",
    "    print(\"Nine ladies dancing,\")\n",
    "if n >= 8:\n",
    "    print(\"Eight maids a-milking,\")\n",
    "if n >= 7:\n",
    "    print(\"Seven swans a-swimming,\")\n",
    "if n >= 6:\n",
    "    print(\"Six geese a-laying,\")\n",
    "if n >= 5:\n",
    "    print(\"Five golden rings,\")\n",
    "if n >= 4:\n",
    "    print(\"Four calling birds,\")\n",
    "if n >= 3:\n",
    "    print(\"Three French hens,\")\n",
    "if n >= 2:\n",
    "    print(\"Two turtle doves,\")\n",
    "if n == 1:\n",
    "    print(\"A\", end=\" \")\n",
    "else:\n",
    "    print(\"And a\", end=\" \")\n",
    "print()\n",
    "def main():\n",
    "    for verse in range(1, 13):\n",
    "        displayVerse(verse)\n",
    "main()"
   ]
  },
  {
   "cell_type": "code",
   "execution_count": 7,
   "metadata": {},
   "outputs": [
    {
     "name": "stdout",
     "output_type": "stream",
     "text": [
      "A CRICKTER\n",
      "IS FAMOUS\n",
      "FOR HIS\n",
      "\n",
      "BATTING AND FIELDING\n"
     ]
    }
   ],
   "source": [
    "#93\n",
    "WIDTH = 90\n",
    "def center(s,WIDTH):\n",
    "    if WIDTH < len(s):\n",
    "        return s\n",
    "    spaces = (WIDTH - len(s)) // 2\n",
    "    result = \"\" * spaces + s\n",
    "    return result\n",
    "def main():\n",
    "    print(center(\"A CRICKTER\", WIDTH))\n",
    "    print(center(\"IS FAMOUS\", WIDTH))\n",
    "    print(center(\"FOR HIS\", WIDTH))\n",
    "    print()\n",
    "    print(\"BATTING AND FIELDING\")\n",
    "main()"
   ]
  },
  {
   "cell_type": "code",
   "execution_count": 8,
   "metadata": {},
   "outputs": [
    {
     "name": "stdin",
     "output_type": "stream",
     "text": [
      "ENTER THE LENGHT OF STRAW1 25\n",
      "ENTER THE LENGHT OF STRAW2 25\n",
      "ENTER THE LENGHT OF STRAW3 25\n"
     ]
    },
    {
     "name": "stdout",
     "output_type": "stream",
     "text": [
      "IT CAN FORM A TRIANGLE\n"
     ]
    }
   ],
   "source": [
    "#94\n",
    "s1 = int(input(\"ENTER THE LENGHT OF STRAW1\"))\n",
    "s2 = int(input(\"ENTER THE LENGHT OF STRAW2\"))\n",
    "s3 = int(input(\"ENTER THE LENGHT OF STRAW3\"))\n",
    "def triangle(s1,s2,s3):\n",
    "    if s1 == s2 == s3:\n",
    "        return true\n",
    "    else:\n",
    "        return false\n",
    "def main():\n",
    "    if s1 == s2 == s3:\n",
    "        print(\"IT CAN FORM A TRIANGLE\")\n",
    "    else:\n",
    "        print(\"IT CAN NOT FORM A TRIANGLE\")\n",
    "main()"
   ]
  },
  {
   "cell_type": "code",
   "execution_count": 9,
   "metadata": {},
   "outputs": [
    {
     "name": "stdin",
     "output_type": "stream",
     "text": [
      "ENTER A STRING 1\n"
     ]
    },
    {
     "name": "stdout",
     "output_type": "stream",
     "text": [
      "THE STRING REPRESENTS THE STRING\n"
     ]
    }
   ],
   "source": [
    "#96\n",
    "def isInteger(s):\n",
    "    s = s.strip()\n",
    "    if (s[0] == \"+\" or s[0] == \"-\")and s[1:].isdigit():\n",
    "        return True\n",
    "    elif s.isdigit():\n",
    "        return True\n",
    "    else:\n",
    "        return False\n",
    "def main():\n",
    "    s = input(\"ENTER A STRING\")\n",
    "    if isInteger(s):\n",
    "        print(\"THE STRING REPRESENTS THE STRING\")\n",
    "    else:\n",
    "        print(\"THE STRING DOES NOT REPRESENTS THE STRING\")\n",
    "main()"
   ]
  },
  {
   "cell_type": "code",
   "execution_count": 14,
   "metadata": {},
   "outputs": [
    {
     "name": "stdout",
     "output_type": "stream",
     "text": [
      "THE RANDOM PASSWORD IS <function randomPassword at 0x0000017675C6D4C8>\n"
     ]
    }
   ],
   "source": [
    "#100\n",
    "Shortest = 7\n",
    "Longest = 10\n",
    "Min_ASCII = 33\n",
    "Max_ASCII = 126\n",
    "def randomPassword():\n",
    "    randomLength = randint(Shortest,Longest)\n",
    "    result = \"\"\n",
    "    for i in range(randomLength):\n",
    "        randomChar = chr(randint(Min_ASCII,Max_ASCII))\n",
    "        result = result + randomChar\n",
    "        return result\n",
    "def main():\n",
    "    print(\"THE RANDOM PASSWORD IS\",randomPassword)\n",
    "main()"
   ]
  },
  {
   "cell_type": "code",
   "execution_count": 15,
   "metadata": {},
   "outputs": [
    {
     "name": "stdout",
     "output_type": "stream",
     "text": [
      "THE RANDOM LICENSE PLATE IS <function oldLicenseplate at 0x0000017675C6D948>\n"
     ]
    }
   ],
   "source": [
    "#101\n",
    "ABCDEFGHIJKLMNOPQRSTUVWXYZ = \"\"\n",
    "Shortest = 6\n",
    "Longest = 6\n",
    "Letters = ABCDEFGHIJKLMNOPQRSTUVWXYZ\n",
    "Numbers = 123456789\n",
    "def oldLicenseplate():\n",
    "    randomLength = randint(Shortest,Longest)\n",
    "    result = \"\"\n",
    "    for i in range(randomLength):\n",
    "        randomChar = chr(rand(Letters,Numbers))\n",
    "        result = result + randomChar\n",
    "        return result\n",
    "def main():\n",
    "    print(\"THE RANDOM LICENSE PLATE IS\",oldLicenseplate)\n",
    "main()"
   ]
  },
  {
   "cell_type": "code",
   "execution_count": 17,
   "metadata": {},
   "outputs": [
    {
     "name": "stdin",
     "output_type": "stream",
     "text": [
      "ENTER A PASSWORD Shashank#07\n"
     ]
    },
    {
     "name": "stdout",
     "output_type": "stream",
     "text": [
      "THE PASSWORD IS NOT VALID\n"
     ]
    }
   ],
   "source": [
    "def checkPassword(password):\n",
    "    has_Upper = False\n",
    "    has_Lower = False\n",
    "    has_Num = False\n",
    "    for P in password:\n",
    "        if P >= 'A' and P <= 'Z':\n",
    "            has_Upper = True\n",
    "        elif P >= 'a' and P <= 'z':\n",
    "            has_Lower = True\n",
    "        elif P >= 1 and P <= 9:\n",
    "            has_Num = True\n",
    "        if len(password) >= 8 and has_Upper and has_Lower and has_Num:\n",
    "            return True\n",
    "        else:\n",
    "            return False\n",
    "def main():\n",
    "    p = input(\"ENTER A PASSWORD\")\n",
    "    if checkPassword(p):\n",
    "        \n",
    "        print(\"THE PASSWORD IS VALID\")\n",
    "    else:\n",
    "        print(\"THE PASSWORD IS NOT VALID\")\n",
    "main()"
   ]
  },
  {
   "cell_type": "code",
   "execution_count": 18,
   "metadata": {},
   "outputs": [
    {
     "name": "stdin",
     "output_type": "stream",
     "text": [
      "ENTER THE LENGTH OF THE PASSWORD 8\n"
     ]
    },
    {
     "name": "stdout",
     "output_type": "stream",
     "text": [
      "8\n",
      "8k\n",
      "8^k\n",
      "Hk^8\n",
      "k8Hm^\n",
      "mEk^8H\n",
      "E8kYm^H\n",
      "18EH^mYk\n"
     ]
    }
   ],
   "source": [
    "#103\n",
    "import string\n",
    "import random\n",
    "characters = list(string.ascii_letters + string.digits + \"!@#$%^&*()\")\n",
    "def generateRandomPassword():\n",
    "    length = int(input(\"ENTER THE LENGTH OF THE PASSWORD\"))\n",
    "    random.shuffle(characters)\n",
    "    password = []\n",
    "    for i in range(length):\n",
    "        password.append(random.choice(characters))\n",
    "        random.shuffle(password)\n",
    "        print(\"\".join(password))\n",
    "generateRandomPassword()"
   ]
  },
  {
   "cell_type": "code",
   "execution_count": 21,
   "metadata": {},
   "outputs": [
    {
     "name": "stdin",
     "output_type": "stream",
     "text": [
      "ENTER THE HEXADECIMAL VALUE 11A\n"
     ]
    },
    {
     "name": "stdout",
     "output_type": "stream",
     "text": [
      "10\n"
     ]
    }
   ],
   "source": [
    "### 104\n",
    "def hexadecimalToDecimal(hexval):\n",
    "    length = len(hexval)\n",
    "    base = 1\n",
    "    dec_val = 0\n",
    "    for i in range(length -1,-1,-1):\n",
    "        if hexval[i] >= '2' and hexval[i] <= '16':\n",
    "            dec_val += (ord(hexval[i])-48)*base\n",
    "            base = base * 16\n",
    "        elif hexval[i] >= 'A' and hexval[i] <= 'F':\n",
    "            dec_val += (ord(hexval[i])-55)*base\n",
    "            base = base * 16\n",
    "    return dec_val\n",
    "if __name__ == '__main__':\n",
    "    hexnum = input(\"ENTER THE HEXADECIMAL VALUE\")\n",
    "    print(hexadecimalToDecimal(hexnum))"
   ]
  },
  {
   "cell_type": "code",
   "execution_count": 22,
   "metadata": {},
   "outputs": [
    {
     "name": "stdin",
     "output_type": "stream",
     "text": [
      "ENTER THE BASE FROM(2-16) 14\n"
     ]
    }
   ],
   "source": [
    "def dec2n(num,new_base):\n",
    "    result = \"\"\n",
    "    q = num\n",
    "    r = q % new_base\n",
    "    result = int2hex(r) + result\n",
    "    q = q // new_base\n",
    "    while q > 0:\n",
    "        r = q % new_base\n",
    "        result = int2hex(r) + result\n",
    "        q = q // new_base\n",
    "def n2dec(num,d):\n",
    "    decimal = 0\n",
    "    for i in range(len(num)):\n",
    "        decimal = decimal * d\n",
    "        decimal = decimal + hex2int(num[i])\n",
    "    return decimal\n",
    "def main():\n",
    "    from_base = int(input(\"ENTER THE BASE FROM(2-16)\"))\n",
    "    if from_base < 2 or from_base > 16:\n",
    "        print(\"ERROR ENTER THE BASE BETWEEN (2-16)\")\n",
    "        print(\"quitting\")\n",
    "        quit()\n",
    "        from_num = input(\"SEQUENCE IN THE BASE\")\n",
    "        dec = n2dec(from_num,from_base)\n",
    "        print(\"THATS IN BASE 10.\" %dec)\n",
    "        to_base = int(input(\"ENTER BASE TO CONVERT(2-16)\"))\n",
    "        if to_base < 2 or to_base > 16:\n",
    "            print(\"ONLY BASES BETWEEN 2 AND 16 ARE SUPPORTED\")\n",
    "            print(\"quitting\")\n",
    "            quit()\n",
    "            to_num=dec2n(dec,to_base)\n",
    "            print(\"THATS IN BASE\"%(to_num,to_base))\n",
    "main()"
   ]
  },
  {
   "cell_type": "code",
   "execution_count": 24,
   "metadata": {},
   "outputs": [
    {
     "name": "stdout",
     "output_type": "stream",
     "text": [
      "True\n",
      "29\n"
     ]
    }
   ],
   "source": [
    "def is_leap_year (year):\n",
    "    return (year % 4 == 0) and (year % 100 != 0) or (year % 400 == 0)\n",
    "\n",
    "def days_in_month(month, year):\n",
    "    if month == 'September' or month == 'April' or month == 'June' or month == 'November':\n",
    "        result=30\n",
    "    elif month == 'January' or month == 'March' or month == 'May' or month== 'July' or month == 'August' or month == 'October'or month== 'December':\n",
    "        result=31\n",
    "\n",
    "    elif month == 'February' and is_leap_year(year) ==True:\n",
    "        result=29\n",
    "\n",
    "    elif month == 'February' and is_leap_year(year) == False:\n",
    "        result=28\n",
    "    else:\n",
    "        result =-1\n",
    "    return result\n",
    "print(is_leap_year(2012))\n",
    "print(days_in_month('February',2016))\n"
   ]
  },
  {
   "cell_type": "code",
   "execution_count": 25,
   "metadata": {},
   "outputs": [
    {
     "name": "stdin",
     "output_type": "stream",
     "text": [
      "ENTER THE NUMERATOR 6\n",
      "ENTER THE DENOMINATOR 66\n"
     ]
    },
    {
     "name": "stdout",
     "output_type": "stream",
     "text": [
      "THE REDUCED FRACTION IS (6, 66, 1, 11)\n"
     ]
    }
   ],
   "source": [
    "#107\n",
    "def greatestCommondivisor(n,m):\n",
    "    a = min(n,m)\n",
    "    while n % a != 0 or m % a != 0:\n",
    "        a = a - 1\n",
    "    return a\n",
    "def reduce(num,den):\n",
    "    if num == 0:\n",
    "        return(0,1)\n",
    "    g = greatestCommondivisor(num,den)\n",
    "    return(num // g , den // g)\n",
    "def main():\n",
    "    num = int(input(\"ENTER THE NUMERATOR\"))\n",
    "    den = int(input(\"ENTER THE DENOMINATOR\"))\n",
    "    (n,a) = reduce(num,den)\n",
    "    print(\"THE REDUCED FRACTION IS\",(num,den,n,a))\n",
    "main()"
   ]
  },
  {
   "cell_type": "code",
   "execution_count": 30,
   "metadata": {},
   "outputs": [
    {
     "name": "stdout",
     "output_type": "stream",
     "text": [
      "40\n"
     ]
    }
   ],
   "source": [
    "days = [31, 28, 31, 30, 31, 30,1, 31, 30, 31, 30, 31];\n",
    "def dayOfYear(date):\n",
    "    year = (int)(date[0:4]);\n",
    "    month = (int)(date[5:7]);\n",
    "    day = (int)(date[8:]);\n",
    "    if (month > 2 and year % 4 == 0 and\n",
    "        (year % 100 != 0 or year % 400 == 0)):\n",
    "        \n",
    "        day += 1;\n",
    "        month -= 1;\n",
    "    while (month > 0):\n",
    "        day = day + days[month - 1];\n",
    "        month -= 1;\n",
    "        return day;\n",
    "if __name__ == '__main__':\n",
    "    date = \"2019-01-09\"\n",
    "    print(dayOfYear(date))\n",
    "\n",
    "\n"
   ]
  },
  {
   "cell_type": "code",
   "execution_count": null,
   "metadata": {},
   "outputs": [],
   "source": []
  }
 ],
 "metadata": {
  "kernelspec": {
   "display_name": "Python 3",
   "language": "python",
   "name": "python3"
  },
  "language_info": {
   "codemirror_mode": {
    "name": "ipython",
    "version": 3
   },
   "file_extension": ".py",
   "mimetype": "text/x-python",
   "name": "python",
   "nbconvert_exporter": "python",
   "pygments_lexer": "ipython3",
   "version": "3.7.6"
  }
 },
 "nbformat": 4,
 "nbformat_minor": 4
}
