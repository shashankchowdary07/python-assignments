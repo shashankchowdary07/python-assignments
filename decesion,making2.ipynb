{
 "cells": [
  {
   "cell_type": "code",
   "execution_count": 1,
   "metadata": {},
   "outputs": [
    {
     "name": "stdin",
     "output_type": "stream",
     "text": [
      "Enter a frequency (Hz):  392\n"
     ]
    },
    {
     "name": "stdout",
     "output_type": "stream",
     "text": [
      "That frequency is G4\n"
     ]
    }
   ],
   "source": [
    "#43\n",
    "C4_FREQ = 261.63\n",
    "D4_FREQ = 293.66\n",
    "E4_FREQ = 329.63\n",
    "F4_FREQ = 349.23\n",
    "G4_FREQ = 392.00\n",
    "A4_FREQ = 440.00\n",
    "B4_FREQ = 493.88\n",
    "LIMIT = 1\n",
    "freq = float(input(\"Enter a frequency (Hz): \"))\n",
    "if freq >= C4_FREQ - LIMIT and freq <= C4_FREQ + LIMIT:\n",
    "    note = \"C4\"\n",
    "elif freq >= D4_FREQ - LIMIT and freq <= D4_FREQ + LIMIT:\n",
    "    note = \"D4\"\n",
    "elif freq >= E4_FREQ - LIMIT and freq <= E4_FREQ + LIMIT:\n",
    "    note = \"E4\"\n",
    "elif freq >= F4_FREQ - LIMIT and freq <= F4_FREQ + LIMIT:\n",
    "    note = \"F4\"\n",
    "elif freq >= G4_FREQ - LIMIT and freq <= G4_FREQ + LIMIT:\n",
    "    note = \"G4\"\n",
    "elif freq >= A4_FREQ - LIMIT and freq <= A4_FREQ + LIMIT:\n",
    "    note = \"A4\"\n",
    "elif freq >= B4_FREQ - LIMIT and freq <= B4_FREQ + LIMIT:\n",
    "    note = \"B4\"\n",
    "else:\n",
    "    note = \"\"\n",
    "if note == \"\":\n",
    "    print(\"There is no note that corresponds to that frequency.\")\n",
    "else:\n",
    "    print(\"That frequency is\", note)\n"
   ]
  },
  {
   "cell_type": "code",
   "execution_count": 3,
   "metadata": {},
   "outputs": [
    {
     "name": "stdin",
     "output_type": "stream",
     "text": [
      "ENTER THE MONEY 10\n"
     ]
    },
    {
     "name": "stdout",
     "output_type": "stream",
     "text": [
      "ALEXANDER HAMILTON\n"
     ]
    }
   ],
   "source": [
    "#44 \n",
    "money = int(input(\"ENTER THE MONEY\"))\n",
    "if money == 1:\n",
    "    print(\"GEORGE WASHINGTON\")\n",
    "elif money == 2:\n",
    "    print(\"THOMAS JEFFERSON\")\n",
    "elif money == 5:\n",
    "    print(\"ABRAHAM LINCOLN\")\n",
    "elif money == 10:\n",
    "    print(\"ALEXANDER HAMILTON\")\n",
    "elif money == 20:\n",
    "    print(\"ANDREW JACKSON\")\n",
    "elif money == 50:\n",
    "    print(\"ULYSSES S.GRANT\")\n",
    "elif money == 100:\n",
    "    print(\"BENJAMIN FRANKLIN\")\n",
    "else:\n",
    "    print(\"error\")\n",
    " "
   ]
  },
  {
   "cell_type": "code",
   "execution_count": 5,
   "metadata": {},
   "outputs": [
    {
     "name": "stdin",
     "output_type": "stream",
     "text": [
      "PLEASE ENTER THE MONTH AND DAY JULY 1\n"
     ]
    },
    {
     "name": "stdout",
     "output_type": "stream",
     "text": [
      "CANADA DAY\n"
     ]
    }
   ],
   "source": [
    "#45\n",
    "from datetime import date\n",
    "n = (input(\"PLEASE ENTER THE MONTH AND DAY\"))\n",
    "if n == \"JANUARY-1\" :\n",
    "    print(\"NEW YEAR'S DAY\")\n",
    "elif n == \"JULY 1\":\n",
    "    print(\"CANADA DAY\")\n",
    "elif n == \"DECEMBER 25\":\n",
    "    print(\"CHRISTMAS DAY\")\n",
    "else:\n",
    "    print(\"GIVEN DATE AND MONTH DO NOT CORRESPOND\")\n",
    "    "
   ]
  },
  {
   "cell_type": "code",
   "execution_count": 6,
   "metadata": {},
   "outputs": [
    {
     "name": "stdin",
     "output_type": "stream",
     "text": [
      "ENTER THE MONTH JULY\n",
      "ENTER THE DAY 20\n"
     ]
    },
    {
     "name": "stdout",
     "output_type": "stream",
     "text": [
      "JULY 20 IS IN SUMMER\n"
     ]
    }
   ],
   "source": [
    "#47\n",
    "month = str(input(\"ENTER THE MONTH\"))\n",
    "date = int(input(\"ENTER THE DAY\"))\n",
    "if month == 'JANUARY' or month =='FEBRUARY':\n",
    "    season = \"WINTER\"\n",
    "elif month == \"MARCH\":\n",
    "    if day <20:\n",
    "        season = \"WINTER\"\n",
    "    else:\n",
    "        season = \"SPRING\"\n",
    "elif month == \"APRIL\" or month == \"MAY\":\n",
    "    season = \"SPRING\"\n",
    "elif month == \"JUNE\":\n",
    "    if day<21:\n",
    "        season = \"SPRING\"\n",
    "    else:\n",
    "        season = \"SUMMER\"\n",
    "elif month == \"JULY\" or month == \"AUGUST\":\n",
    "    season = \"SUMMER\"\n",
    "elif month == \"SEPTEMBER\":\n",
    "    if day<22:\n",
    "        season = \"SUMMER\"\n",
    "    else:\n",
    "        season = \"FALL\"\n",
    "elif month ==\"OCTOBER\" or month == \"NOVEMBER\":\n",
    "    season = \"FALL\"\n",
    "elif month == \"DECEMBER\":\n",
    "    if day<21:\n",
    "        season = \"FALL\"\n",
    "    else:\n",
    "        season = \"WINTER\"\n",
    "else:\n",
    "    season = \"WINTER\"\n",
    "print(month,date,\"IS IN\",season)"
   ]
  },
  {
   "cell_type": "code",
   "execution_count": 7,
   "metadata": {},
   "outputs": [
    {
     "name": "stdin",
     "output_type": "stream",
     "text": [
      "ENTER THE MONTH JANUARY\n",
      "ENTER THE DATE 23\n"
     ]
    },
    {
     "name": "stdout",
     "output_type": "stream",
     "text": [
      "JANUARY 23 IS IN aquarius\n"
     ]
    }
   ],
   "source": [
    "#48\n",
    "month = str(input(\"ENTER THE MONTH\"))\n",
    "date = int(input(\"ENTER THE DATE\"))\n",
    "if month == \"JANUARY\":\n",
    "    if date <19:\n",
    "        n=\"capricorn\"\n",
    "    else:\n",
    "        n=\"aquarius\"\n",
    "elif month == \"FEBRUARY\":\n",
    "    if date < 18:\n",
    "        n=\"aquarius\"\n",
    "    else:\n",
    "        n=\"pisces\"\n",
    "print(month,date,\"IS IN\",n)\n",
    "        "
   ]
  },
  {
   "cell_type": "code",
   "execution_count": 8,
   "metadata": {},
   "outputs": [
    {
     "name": "stdin",
     "output_type": "stream",
     "text": [
      "Enter a year:  2022\n"
     ]
    },
    {
     "name": "stdout",
     "output_type": "stream",
     "text": [
      "2022 is the year of the Tiger.\n"
     ]
    }
   ],
   "source": [
    "#49\n",
    "year = int(input(\"Enter a year: \"))\n",
    "if year % 12 == 8:\n",
    "    animal = \"Dragon\"\n",
    "elif year % 12 == 9:\n",
    "    animal = \"Snake\"\n",
    "elif year % 12 == 10:\n",
    "    animal = \"Horse\"\n",
    "elif year % 12 == 11:\n",
    "    animal = \"Sheep\"\n",
    "elif year % 12 == 0:\n",
    "    animal = \"Monkey\"\n",
    "elif year % 12 == 1:\n",
    "    animal = \"Rooster\"\n",
    "elif year % 12 == 2:\n",
    "    animal = \"Dog\"\n",
    "elif year % 12 == 3:\n",
    "    animal = \"Pig\"\n",
    "elif year % 12 == 4:\n",
    "    animal = \"Rat\"\n",
    "elif year % 12 == 5:\n",
    "    animal = \"Ox\"\n",
    "elif year % 12 == 6:\n",
    "    animal = \"Tiger\"\n",
    "elif year % 12 == 7:\n",
    "    animal = \"Hare\"\n",
    "print(\"%d is the year of the %s.\" % (year, animal))\n"
   ]
  },
  {
   "cell_type": "code",
   "execution_count": 9,
   "metadata": {},
   "outputs": [
    {
     "name": "stdin",
     "output_type": "stream",
     "text": [
      "ENTER THE MAGNITUDE 11\n"
     ]
    },
    {
     "name": "stdout",
     "output_type": "stream",
     "text": [
      "11.0 THE DESCRIPTOR FOR GIVEN MAGNITUDE IS METEORIC\n"
     ]
    }
   ],
   "source": [
    "#50\n",
    "magnitude = float(input(\"ENTER THE MAGNITUDE\"))\n",
    "if magnitude < 2:\n",
    "    descriptor = \"MICRO\"\n",
    "elif magnitude >= 2 and magnitude < 3:\n",
    "    descriptor = \"VERY MINOR\"\n",
    "elif magnitude >= 3 and magnitude  <4:\n",
    "    descriptor = \"MINOR\"\n",
    "elif magnitude >= 4 and magnitude <5:\n",
    "    descriptor = \"LIGHT\"\n",
    "elif magnitude >= 5 and magnitude < 6:\n",
    "    descriptor = \"MODERATE\"\n",
    "elif magnitude >= 6 and magnitude < 7:\n",
    "    descriptor = \"STRONG\"\n",
    "elif magnitude >= 7 and magnitude < 8:\n",
    "    descriptor = \"MAJOR\"\n",
    "elif magnitude >= 8 and magnitude < 10:\n",
    "    descriptor = \"GREAT\"\n",
    "elif magnitude >= 10:\n",
    "    descriptor = \"METEORIC\"\n",
    "print(magnitude,\"THE DESCRIPTOR FOR GIVEN MAGNITUDE IS\",descriptor)"
   ]
  },
  {
   "cell_type": "code",
   "execution_count": 10,
   "metadata": {},
   "outputs": [
    {
     "name": "stdin",
     "output_type": "stream",
     "text": [
      "ENTER THE LETTER VALUE D\n"
     ]
    },
    {
     "name": "stdout",
     "output_type": "stream",
     "text": [
      "GIVEN D IS EQUAL TO 1.0 GRADE POINTS.\n"
     ]
    }
   ],
   "source": [
    "#52\n",
    "A = 4.0\n",
    "A_MINUS = 3.7\n",
    "B_PLUS = 3.3\n",
    "B = 3.0\n",
    "B_MINUS = 2.7\n",
    "C_PLUS = 2.3\n",
    "C = 2.0\n",
    "C_MINUS = 1.7\n",
    "D_PLUS = 1.3\n",
    "D = 1.0\n",
    "F =0\n",
    "INVALID = -1\n",
    "letter = str(input(\"ENTER THE LETTER VALUE\"))\n",
    "letter = letter.upper()\n",
    "if letter == \"A+\" or letter == \"A\":\n",
    "    gp = A\n",
    "elif letter == \"A-\":\n",
    "    gp = A_MINUS\n",
    "elif letter == \"B+\":\n",
    "    gp = B_PLUS\n",
    "elif letter == \"B\":\n",
    "    gp = B\n",
    "elif letter == \"B-\":\n",
    "    gp = B_MINUS\n",
    "elif letter == \"C+\":\n",
    "    gp = C_PLUS\n",
    "elif letter == \"C\":\n",
    "    gp = C\n",
    "elif letter == \"C-\":\n",
    "    gp = C_MINUS\n",
    "elif letter == \"D+\":\n",
    "    gp = D_PLUS\n",
    "elif letter == \"D\":\n",
    "    gp = D\n",
    "elif letter == \"F\":\n",
    "    gp = F\n",
    "else:\n",
    "    gp = INVALID\n",
    "if gp == INVALID:\n",
    "    print(\"ERROR\")\n",
    "else:\n",
    "    print(\"GIVEN\",letter,\"IS EQUAL TO\",gp,\"GRADE POINTS.\")"
   ]
  },
  {
   "cell_type": "code",
   "execution_count": 11,
   "metadata": {},
   "outputs": [
    {
     "name": "stdin",
     "output_type": "stream",
     "text": [
      "ENTER THE RATING 0.4\n"
     ]
    },
    {
     "name": "stdout",
     "output_type": "stream",
     "text": [
      "YOU WILL RECEIVE A RAISE OF $960.00\n"
     ]
    }
   ],
   "source": [
    "#54\n",
    "RAISE_FACTOR = 2400\n",
    "UNACCEPTABLE = 0.0\n",
    "ACCEPTABLE = 0.4\n",
    "MERITORIOUS = 0.6\n",
    "rating = float(input(\"ENTER THE RATING\"))\n",
    "if rating == UNACCEPTABLE:\n",
    "    performance = \"UNACCEPTABLE\"\n",
    "elif rating == ACCEPTABLE:\n",
    "    performance = \"ACCEPTABLE\"\n",
    "elif rating >= MERITORIOUS:\n",
    "    performance = \"MERITORIOUS\"\n",
    "else:\n",
    "    performance = \"\"\n",
    "    if performance == \"\":\n",
    "        print(\"THAT WAS NOT A VALID RATING\")\n",
    "    else:\n",
    "        print(\"PERFORMANCE FOR THE GIVEN RATING IS \", performance)\n",
    "print(\"YOU WILL RECEIVE A RAISE OF $%.2f\"%(rating * RAISE_FACTOR))\n",
    "    "
   ]
  },
  {
   "cell_type": "code",
   "execution_count": 12,
   "metadata": {},
   "outputs": [
    {
     "name": "stdin",
     "output_type": "stream",
     "text": [
      "ENTER THE WAVELENGHT 555\n"
     ]
    },
    {
     "name": "stdout",
     "output_type": "stream",
     "text": [
      "color is GREEN\n"
     ]
    }
   ],
   "source": [
    "#55\n",
    "wave_lenght = int(input(\"ENTER THE WAVELENGHT\"))\n",
    "if wave_lenght >= 380 and wave_lenght < 450:\n",
    "    print(\"color is VIOLET\")\n",
    "elif wave_lenght >= 450 and wave_lenght < 495:\n",
    "    print(\"color is BLUE\")\n",
    "elif  wave_lenght >= 495 and  wave_lenght < 570:\n",
    "    print(\"color is GREEN\")\n",
    "elif  wave_lenght >= 570 and  wave_lenght < 590:\n",
    "    print(\"color is YELLOW\")\n",
    "elif  wave_lengh >= 590 and  wave_lengh < 620:\n",
    "    print(\"color is ORANGE\")\n",
    "elif  wave_lengh >= 620 and  wave_lengh <750:\n",
    "    print(\"color is RED\")\n"
   ]
  },
  {
   "cell_type": "code",
   "execution_count": 13,
   "metadata": {},
   "outputs": [
    {
     "name": "stdin",
     "output_type": "stream",
     "text": [
      "ENTER THE FREQUENCY 30000000000\n"
     ]
    },
    {
     "name": "stdout",
     "output_type": "stream",
     "text": [
      "MICRO WAVES\n"
     ]
    }
   ],
   "source": [
    "#56\n",
    "frequency =float(input(\"ENTER THE FREQUENCY\"))\n",
    "if frequency < 3* pow(10,9):\n",
    "    print(\"RADIO WAVES\")\n",
    "elif frequency >= 3* pow(10,9) and frequency<= 3* pow(10,12):\n",
    "    print(\"MICRO WAVES\")\n",
    "elif frequency >= 3* pow(10,12) and frequency <= 4.3* pow(10,14):\n",
    "    print(\"INFRARED LIGHT\")\n",
    "elif frequency >= 4.3* pow(10,14) and frequency < 7.5* pow(10,14):\n",
    "    print(\"VISIBLE LIGHT\")\n",
    "elif frequency >= 7.5* pow(10,14) and frequency <= 3* pow(10,17):\n",
    "    print(\"ULTRAVIOLET LIGHT\")\n",
    "elif frequency >= 3* pow(10,17) and frequency <= 3* pow(10,19):\n",
    "    print(\"X-RAYS\")\n",
    "elif frequency >= 3* pow(10,19):\n",
    "    print(\"GAMMA RAYS\")"
   ]
  },
  {
   "cell_type": "code",
   "execution_count": 14,
   "metadata": {},
   "outputs": [
    {
     "name": "stdin",
     "output_type": "stream",
     "text": [
      "ENTER THE YEAR 2025\n"
     ]
    },
    {
     "name": "stdout",
     "output_type": "stream",
     "text": [
      "2025 is not a leap year.\n"
     ]
    }
   ],
   "source": [
    "#58\n",
    "year = int(input(\"ENTER THE YEAR\"))\n",
    "if year % 400 == 0:\n",
    "    isLeapYear = True\n",
    "elif year % 100 == 0:\n",
    "    isLeapYear = False\n",
    "elif year % 4 == 0:\n",
    "    isLeapYear = True\n",
    "else:\n",
    "    isLeapYear = False\n",
    "if isLeapYear:\n",
    "    print(year, \"is a leap year.\")\n",
    "else:\n",
    "    print(year, \"is not a leap year.\")"
   ]
  },
  {
   "cell_type": "code",
   "execution_count": 15,
   "metadata": {},
   "outputs": [
    {
     "name": "stdin",
     "output_type": "stream",
     "text": [
      "Input a year:  1063\n",
      "Input a month [1-12]:  11\n",
      "Input a day [1-31]:  25\n"
     ]
    },
    {
     "name": "stdout",
     "output_type": "stream",
     "text": [
      "The next date is [yyyy-mm-dd] 1063-11-26.\n"
     ]
    }
   ],
   "source": [
    "#59\n",
    "year = int(input(\"Input a year: \"))\n",
    "\n",
    "if (year % 400 == 0):\n",
    "    leap_year = True\n",
    "elif (year % 100 == 0):\n",
    "    leap_year = False\n",
    "elif (year % 4 == 0):\n",
    "    leap_year = True\n",
    "else:\n",
    "    leap_year = False\n",
    "month = int(input(\"Input a month [1-12]: \"))\n",
    "if month in (1, 3, 5, 7, 8, 10, 12):\n",
    "    month_length = 31\n",
    "elif month == 2:\n",
    "    if leap_year:\n",
    "        month_length = 29\n",
    "    else:\n",
    "        month_length = 28\n",
    "else:\n",
    "    month_length = 30\n",
    "\n",
    "day = int(input(\"Input a day [1-31]: \"))\n",
    "if day < month_length:\n",
    "    day += 1\n",
    "else:\n",
    "    day = 1\n",
    "    if month == 12:\n",
    "        month = 1\n",
    "        year += 1\n",
    "    else:\n",
    "        month += 1\n",
    "print(\"The next date is [yyyy-mm-dd] %d-%d-%d.\" % (year, month, day))"
   ]
  },
  {
   "cell_type": "code",
   "execution_count": 16,
   "metadata": {},
   "outputs": [
    {
     "name": "stdin",
     "output_type": "stream",
     "text": [
      "ENTER THE LICENSE PLATE NUMBER 9999APC\n"
     ]
    },
    {
     "name": "stdout",
     "output_type": "stream",
     "text": [
      "THE PLATE IS VALID AND IT IS A NEW STYLE PLATE.\n"
     ]
    }
   ],
   "source": [
    "#61\n",
    "plate = input(\"ENTER THE LICENSE PLATE NUMBER\")\n",
    "if len(plate) == 6 and plate[0] >= \"A\" and plate[0] <= \"Z\" and  plate[1] >= \"A\" and plate[1] <= \"Z\" and plate[2] >= \"A\" and plate[2] <= \"Z\" and  plate[3] >=\"0\" and plate[3] <= \"9\" and plate[4] >= \"0\" and plate[4] <= \"9\" and  plate[5] >= \"0\" and plate[5] <= \"9\":\n",
    "    print(\"THE PLATE IS A VALID AND IT IS A OLD STYLE PLATE.\")\n",
    "elif len(plate) == 7 and  plate[0] >= \"0\" and plate[0] <= \"9\" and plate[1] >= \"0\" and plate[1] <= \"9\" and plate[2] >= \"0\" and plate[2] <= \"9\" and plate[3] >= \"0\" and plate[3] <= \"9\" and plate[4] >= \"A\" and plate[4] <= \"Z\" and plate[5] >= \"A\" and plate[5] <= \"Z\" and plate[6] >= \"A\" and plate[6] <= \"Z\":\n",
    "    print(\"THE PLATE IS VALID AND IT IS A NEW STYLE PLATE.\")\n",
    "else:\n",
    "    print(\"ENTERED PLATE NUMBER IS NOT VALID\")"
   ]
  },
  {
   "cell_type": "code",
   "execution_count": 17,
   "metadata": {},
   "outputs": [
    {
     "name": "stdout",
     "output_type": "stream",
     "text": [
      "pay 24\n",
      "pay black\n",
      "pay odd\n",
      "pay 19 to 36\n"
     ]
    }
   ],
   "source": [
    "#62\n",
    "from random import randrange\n",
    "value = randrange(0, 38)\n",
    "if value == 37:\n",
    "    print(\"pay 00\")\n",
    "else:\n",
    "    print(\"pay\",value)\n",
    "if value % 2 == 1 and value >= 1 and value <= 9 or value %2 == 0 and value >=12 and value <= 18 or value %2 == 1 and value >= 19 and value <=27 or value %2 == 0 and value >=30 and value <= 36:\n",
    "    print(\"pay red\")\n",
    "elif value == 0 or value ==37:\n",
    "    pass\n",
    "else:\n",
    "    print(\"pay black\")\n",
    "if value>=1 and value<= 36:\n",
    "    if value % 2 ==1:\n",
    "        print(\"pay even\")\n",
    "    else:\n",
    "        print(\"pay odd\")\n",
    "if value>=1 and value <= 18:\n",
    "    print(\"pay 1 to 18\")\n",
    "elif value>= 19 and value <= 36:\n",
    "    print(\"pay 19 to 36\")\n"
   ]
  },
  {
   "cell_type": "code",
   "execution_count": 18,
   "metadata": {},
   "outputs": [
    {
     "name": "stdin",
     "output_type": "stream",
     "text": [
      "ENTER THE NUMBER OF MINUTES TALKED 125\n",
      "ENTER THE NUMBER OF MESSAGES SENT 589\n"
     ]
    },
    {
     "name": "stdout",
     "output_type": "stream",
     "text": [
      "THE TOTAL BILL IS 150.04\n"
     ]
    }
   ],
   "source": [
    "#57\n",
    "minutes = int(input(\"ENTER THE NUMBER OF MINUTES TALKED\"))\n",
    "messages = int(input(\"ENTER THE NUMBER OF MESSAGES SENT\"))\n",
    "if minutes<=50 and messages<=50:\n",
    "    cost = 15.00\n",
    "    print(\"THE TOTAL BILL IS\",cost)\n",
    "elif minutes > 50 and messages > 50:\n",
    "    cost1 = (((minutes - 50) * 0.25 + (messages - 50) * 0.15)+50.44) \n",
    "    print(\"THE TOTAL BILL IS\",cost1)\n"
   ]
  },
  {
   "cell_type": "code",
   "execution_count": 19,
   "metadata": {},
   "outputs": [
    {
     "name": "stdin",
     "output_type": "stream",
     "text": [
      "ENTER THE GRADE POINTS 4.0\n"
     ]
    },
    {
     "name": "stdout",
     "output_type": "stream",
     "text": [
      "LETTER IS A\n"
     ]
    }
   ],
   "source": [
    "#53\n",
    "point = float(input(\"ENTER THE GRADE POINTS\"))\n",
    "if point == 4.0 :\n",
    "    print(\"LETTER IS A\")\n",
    "elif point == 3.7:\n",
    "    print(\"LETTER IS A_MINUS\")\n",
    "elif point == 3.3:\n",
    "    print(\"LETTER IS B_PLUS\")\n",
    "elif point == 3.0:\n",
    "    print(\"LETTER IS B\")\n",
    "elif point ==2.7:\n",
    "    print(\"LETTER IS B_MINUS\")\n",
    "elif point == 2.3:\n",
    "    print(\"LETTER IS C_PLUS\")\n",
    "elif point == 2.0:\n",
    "        print(\"LETTER IS C\" )\n",
    "elif point == 1.7:\n",
    "        print(\"LETTER IS C_MINUS\" )\n",
    "elif point == 1.3:\n",
    "        print(\"LETTER IS D_PLUS\" )\n",
    "elif point == 1.0:\n",
    "        print(\"LETTER IS D\")\n",
    "elif point == 0:\n",
    "        print(\"LETTER IS F\" )\n",
    "else:\n",
    "    print(\"ERROR\")\n"
   ]
  },
  {
   "cell_type": "code",
   "execution_count": 20,
   "metadata": {},
   "outputs": [
    {
     "name": "stdin",
     "output_type": "stream",
     "text": [
      "ENTER THE YEAR 1236\n"
     ]
    },
    {
     "name": "stdout",
     "output_type": "stream",
     "text": [
      "TUESDAY\n"
     ]
    }
   ],
   "source": [
    "#60\n",
    "from math import floor\n",
    "year = int(input(\"ENTER THE YEAR\"))\n",
    "dayoftheweek =(year + floor((year - 1)/4)-floor((year-1)/100)+floor((year-1)/400))%7\n",
    "if dayoftheweek == 0:\n",
    "    print(\"SUNDAY\")\n",
    "elif dayoftheweek == 1:\n",
    "    print(\"MONDAY\")\n",
    "elif dayoftheweek == 2:\n",
    "    print(\"TUESDAY\")\n",
    "elif dayoftheweek == 3:\n",
    "    print(\"WEDNESDAY\")\n",
    "elif dayoftheweek == 4:\n",
    "    print(\"THURSDAY\")\n",
    "elif dayoftheweek == 5:\n",
    "    print(\"FRIDAY\")\n",
    "elif dayoftheweek == 6:\n",
    "    print(\"SATURDAY\")\n",
    "else:\n",
    "    print(\"ERROR\")"
   ]
  },
  {
   "cell_type": "code",
   "execution_count": 21,
   "metadata": {},
   "outputs": [
    {
     "name": "stdin",
     "output_type": "stream",
     "text": [
      "ENTER THE ALPHABET YOU WANT a\n",
      "ENTER THE NUMBER 2\n"
     ]
    },
    {
     "name": "stdout",
     "output_type": "stream",
     "text": [
      "THE COLOR OF SELECTED POSITION IS WHITE\n"
     ]
    }
   ],
   "source": [
    "#46\n",
    "position = input(\"ENTER THE ALPHABET YOU WANT\")\n",
    "number = int(input(\"ENTER THE NUMBER\"))\n",
    "if position == 'a'or 'c' or 'e' or 'g':\n",
    "    if number %2 == 0:\n",
    "        print(\"THE COLOR OF SELECTED POSITION IS WHITE\")\n",
    "    else:\n",
    "        print(\"THE COLOR OF SELECTED POSTION IS BLACK\")\n",
    "elif position == 'b' or 'd' or 'f' or 'h':\n",
    "    if number %2 == 0:\n",
    "        print(\"THE COLOR OF THE SELECTED POSITION IS BLACK\")\n",
    "    else:\n",
    "        print(\"THE COLOR OF THE SELECTED POSTION IS WHITE\")"
   ]
  },
  {
   "cell_type": "code",
   "execution_count": null,
   "metadata": {},
   "outputs": [],
   "source": []
  }
 ],
 "metadata": {
  "kernelspec": {
   "display_name": "Python 3",
   "language": "python",
   "name": "python3"
  },
  "language_info": {
   "codemirror_mode": {
    "name": "ipython",
    "version": 3
   },
   "file_extension": ".py",
   "mimetype": "text/x-python",
   "name": "python",
   "nbconvert_exporter": "python",
   "pygments_lexer": "ipython3",
   "version": "3.7.6"
  }
 },
 "nbformat": 4,
 "nbformat_minor": 4
}
