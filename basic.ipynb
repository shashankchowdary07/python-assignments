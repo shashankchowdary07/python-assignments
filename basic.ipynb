{
 "cells": [
  {
   "cell_type": "code",
   "execution_count": 1,
   "metadata": {},
   "outputs": [
    {
     "name": "stdout",
     "output_type": "stream",
     "text": [
      "Shashank\n",
      "17/1147-B\n",
      "Rajendra Nagar\n",
      "guntakal\n",
      "6309793933\n"
     ]
    }
   ],
   "source": [
    "#exercise 1\n",
    "print(\"Shashank\")\n",
    "print(\"17/1147-B\")\n",
    "print(\"Rajendra Nagar\")\n",
    "print(\"guntakal\")\n",
    "print(\"6309793933\")"
   ]
  },
  {
   "cell_type": "code",
   "execution_count": 2,
   "metadata": {},
   "outputs": [
    {
     "name": "stdin",
     "output_type": "stream",
     "text": [
      "please enter your name Shashank chowdary Daripineni\n"
     ]
    },
    {
     "name": "stdout",
     "output_type": "stream",
     "text": [
      "hello Shashank chowdary Daripineni\n"
     ]
    }
   ],
   "source": [
    "#excersise 2\n",
    "username=(input(\"please enter your name\"))\n",
    "print(\"hello\",username)"
   ]
  },
  {
   "cell_type": "code",
   "execution_count": 3,
   "metadata": {},
   "outputs": [
    {
     "name": "stdin",
     "output_type": "stream",
     "text": [
      "plese enter the Height 50\n",
      "please enter the Width 25\n"
     ]
    },
    {
     "name": "stdout",
     "output_type": "stream",
     "text": [
      "Area of the Room is 1250.0 feets\n"
     ]
    }
   ],
   "source": [
    "#3\n",
    "Height = float(input(\"plese enter the Height\"))\n",
    "Width = float(input(\"please enter the Width\"))\n",
    "Area = Height * Width \n",
    "print(\"Area of the Room is\",Area , \"feets\")"
   ]
  },
  {
   "cell_type": "code",
   "execution_count": 4,
   "metadata": {},
   "outputs": [
    {
     "name": "stdin",
     "output_type": "stream",
     "text": [
      "plese enter the Height 25\n",
      "please enter the Width 23\n"
     ]
    },
    {
     "name": "stdout",
     "output_type": "stream",
     "text": [
      "The Area of the field is 0.013200183654729108 Acres\n"
     ]
    }
   ],
   "source": [
    "#4\n",
    "SQFT_PER_ACRE = 43560\n",
    "Height = float(input(\"plese enter the Height\"))\n",
    "Width = float(input(\"please enter the Width\"))\n",
    "Acres = Height * Width / SQFT_PER_ACRE\n",
    "print(\"The Area of the field is\",Acres ,\"Acres\")"
   ]
  },
  {
   "cell_type": "code",
   "execution_count": 5,
   "metadata": {},
   "outputs": [
    {
     "name": "stdin",
     "output_type": "stream",
     "text": [
      "CONTAINERS 1 LITER OR LESS? 258\n",
      "CONTAINERS MORE THAN 1 LITER? 265\n"
     ]
    },
    {
     "name": "stdout",
     "output_type": "stream",
     "text": [
      "YOUR'S TOTAL REFUND IS 92.05\n"
     ]
    }
   ],
   "source": [
    "#5\n",
    "less_deposit = 0.10\n",
    "more_deposit = 0.25\n",
    "less = int(input(\"CONTAINERS 1 LITER OR LESS?\"))\n",
    "more = int(input(\"CONTAINERS MORE THAN 1 LITER?\"))\n",
    "Refund = less*less_deposit + more*more_deposit\n",
    "print(\"YOUR'S TOTAL REFUND IS\", Refund)"
   ]
  },
  {
   "cell_type": "code",
   "execution_count": 6,
   "metadata": {},
   "outputs": [
    {
     "name": "stdin",
     "output_type": "stream",
     "text": [
      "PLEASE ENTER THE BILL OF MEAL 258\n"
     ]
    },
    {
     "name": "stdout",
     "output_type": "stream",
     "text": [
      "THE TAX IS 10.32\n",
      "THE TIP IS 46.44\n",
      "THE TOTAL BILL IS 314.76\n"
     ]
    }
   ],
   "source": [
    "#6\n",
    "tax_rate = 0.04\n",
    "tip_rate = 0.18\n",
    "cost = float(input(\"PLEASE ENTER THE BILL OF MEAL\"))\n",
    "tax = cost * tax_rate\n",
    "tip = cost * tip_rate\n",
    "total = cost + tax + tip\n",
    "print(\"THE TAX IS\" , tax)\n",
    "print(\"THE TIP IS\" , tip)\n",
    "print(\"THE TOTAL BILL IS\" , total)"
   ]
  },
  {
   "cell_type": "code",
   "execution_count": 7,
   "metadata": {},
   "outputs": [
    {
     "name": "stdin",
     "output_type": "stream",
     "text": [
      "please enter a positive integer 25\n"
     ]
    },
    {
     "name": "stdout",
     "output_type": "stream",
     "text": [
      "the sum of first n positive integers is 325.0\n"
     ]
    }
   ],
   "source": [
    "#7\n",
    "n = int(input(\"please enter a positive integer\"))\n",
    "sum = n * (n+1) / 2\n",
    "print(\"the sum of first n positive integers is\" , sum)"
   ]
  },
  {
   "cell_type": "code",
   "execution_count": 8,
   "metadata": {},
   "outputs": [
    {
     "name": "stdin",
     "output_type": "stream",
     "text": [
      "Enter number of widgets 25\n",
      "Enter number of gizmos 26\n"
     ]
    },
    {
     "name": "stdout",
     "output_type": "stream",
     "text": [
      "THE TOTAL WEIGHT OF THE PARTS IS 4787\n"
     ]
    }
   ],
   "source": [
    "#8\n",
    "widgets = int(input(\"Enter number of widgets\"))\n",
    "gizmos = int(input(\"Enter number of gizmos\"))\n",
    "weightofwidgets = widgets*75\n",
    "weightofgizmos = gizmos*112\n",
    "Totalweight = weightofwidgets + weightofgizmos\n",
    "print(\"THE TOTAL WEIGHT OF THE PARTS IS\",Totalweight)"
   ]
  },
  {
   "cell_type": "code",
   "execution_count": 9,
   "metadata": {},
   "outputs": [
    {
     "name": "stdin",
     "output_type": "stream",
     "text": [
      "ENTER THE AMOUNT DEPOSITED 2589\n"
     ]
    },
    {
     "name": "stdout",
     "output_type": "stream",
     "text": [
      "ACCOUNT BALANCE AFTER ONE YEAR 2692.56\n",
      "ACCOUNT BALANCE AFTER TWO YEARS 2800.2624\n",
      "ACCOUNT BALANCE AFTER THREE YEARS 2912.272896\n"
     ]
    }
   ],
   "source": [
    "#9\n",
    "Amount_Deposited =  int(input(\"ENTER THE AMOUNT DEPOSITED\"))\n",
    "Intrestof_firstyear = Amount_Deposited * 4 /100\n",
    "Balanceafter_oneyear = Amount_Deposited + Intrestof_firstyear\n",
    "Intrestof_secondyear = Balanceafter_oneyear * 4/100\n",
    "Balanceafter_twoyears = Balanceafter_oneyear + Intrestof_secondyear\n",
    "Intrestof_thirdyear = Balanceafter_twoyears * 4/100\n",
    "Balanceafter_threeyears = Balanceafter_twoyears + Intrestof_thirdyear\n",
    "print(\"ACCOUNT BALANCE AFTER ONE YEAR\", Balanceafter_oneyear)\n",
    "print(\"ACCOUNT BALANCE AFTER TWO YEARS\", Balanceafter_twoyears)\n",
    "print(\"ACCOUNT BALANCE AFTER THREE YEARS\", Balanceafter_threeyears)\n"
   ]
  },
  {
   "cell_type": "code",
   "execution_count": 10,
   "metadata": {},
   "outputs": [
    {
     "name": "stdin",
     "output_type": "stream",
     "text": [
      "ENTER THE VALUE OF a 12\n",
      "ENTER THE VALUE OF b 12\n"
     ]
    },
    {
     "name": "stdout",
     "output_type": "stream",
     "text": [
      "THE SUM OF a AND b is 24\n",
      "THE DIFFERENCE OF a AND b IS 0\n",
      "THE PRODUCT OF a AND b IS 144\n",
      "THE QUOTIENT OF a AND b IS 1.0\n",
      "THE REMAINDER OF a AND b IS 0\n"
     ]
    }
   ],
   "source": [
    "#10\n",
    "from math import log\n",
    "a = int(input(\"ENTER THE VALUE OF a\"))\n",
    "b = int(input(\"ENTER THE VALUE OF b\"))\n",
    "print(\"THE SUM OF a AND b is\",a+b)\n",
    "print(\"THE DIFFERENCE OF a AND b IS\",a-b)\n",
    "print(\"THE PRODUCT OF a AND b IS\",a*b)\n",
    "print(\"THE QUOTIENT OF a AND b IS\",a/b)\n",
    "print(\"THE REMAINDER OF a AND b IS\",a%b)"
   ]
  },
  {
   "cell_type": "code",
   "execution_count": 11,
   "metadata": {},
   "outputs": [
    {
     "name": "stdin",
     "output_type": "stream",
     "text": [
      "ENTER VALUE OF LATITUDE1 IN DEGREES 125\n",
      "ENTER VALUE OF LATITUDE2 IN DEGREES 256\n",
      "ENTER VALUE OF LONGITUDE1 IN DEGREES 141\n",
      "ENTER VALUE OF LONGITUDE2 IN DEGREES 215\n"
     ]
    },
    {
     "name": "stdout",
     "output_type": "stream",
     "text": [
      "distance between two given points is 15474.211377211148 kilometers\n"
     ]
    }
   ],
   "source": [
    "#12\n",
    "from math import radians,cos,sin,asin,sqrt\n",
    "lat1 = float(input(\"ENTER VALUE OF LATITUDE1 IN DEGREES\"))\n",
    "lat2 = float(input(\"ENTER VALUE OF LATITUDE2 IN DEGREES\"))\n",
    "lon1 = float(input(\"ENTER VALUE OF LONGITUDE1 IN DEGREES\"))\n",
    "lon2 = float(input(\"ENTER VALUE OF LONGITUDE2 IN DEGREES\"))\n",
    "Lon1 = radians(lon1)\n",
    "Lon2 = radians(lon2)\n",
    "Lat1 = radians(lat1)\n",
    "Lat2 = radians(lat2)\n",
    "dlon = Lon2 - Lon1\n",
    "dlat = Lat2 - Lat1\n",
    "a = sin(dlat/2)**2+cos(Lat1)*cos(Lat2)*sin(dlon/2)**2\n",
    "c = 2*asin(sqrt(a))\n",
    "r = 6371\n",
    "print(\"distance between two given points is\",c*r,\"kilometers\")\n"
   ]
  },
  {
   "cell_type": "code",
   "execution_count": 12,
   "metadata": {},
   "outputs": [
    {
     "name": "stdin",
     "output_type": "stream",
     "text": [
      "ENTER THE HEIGHT OF THE PERSON IN FEETS 25\n"
     ]
    },
    {
     "name": "stdout",
     "output_type": "stream",
     "text": [
      "HEIGHT OF THE PERSON IN INCHES IS 300.0\n",
      "HEIGHT OF THE PERSON IN CENTIMETERS IS 762.0\n"
     ]
    }
   ],
   "source": [
    "#14\n",
    "Height_infeet = float(input(\"ENTER THE HEIGHT OF THE PERSON IN FEETS\"))\n",
    "Height_ininches = Height_infeet * 12\n",
    "Height_incentimeters = Height_ininches * 2.54\n",
    "print(\"HEIGHT OF THE PERSON IN INCHES IS\",Height_ininches)\n",
    "print(\"HEIGHT OF THE PERSON IN CENTIMETERS IS\",Height_incentimeters)"
   ]
  },
  {
   "cell_type": "code",
   "execution_count": 13,
   "metadata": {},
   "outputs": [
    {
     "name": "stdin",
     "output_type": "stream",
     "text": [
      "ENTER THE DISTANCE IN FEETS 25\n"
     ]
    },
    {
     "name": "stdout",
     "output_type": "stream",
     "text": [
      "GIVEN DISTANCE IN INCHES IS 300.0\n",
      "GIVEN DISTANCE IN YARDS IS 8.333333333333334\n",
      "GIVEN DISTANCE IN MILES IS 0.004734848484848485\n"
     ]
    }
   ],
   "source": [
    "#15\n",
    "distance_infeets = float(input(\"ENTER THE DISTANCE IN FEETS\"))\n",
    "distance_ininches = distance_infeets * 12\n",
    "distance_inyards = distance_infeets / 3\n",
    "distance_inmiles = distance_infeets / 5280\n",
    "print(\"GIVEN DISTANCE IN INCHES IS\",distance_ininches)\n",
    "print(\"GIVEN DISTANCE IN YARDS IS\",distance_inyards)\n",
    "print(\"GIVEN DISTANCE IN MILES IS\",distance_inmiles)"
   ]
  },
  {
   "cell_type": "code",
   "execution_count": 14,
   "metadata": {},
   "outputs": [
    {
     "name": "stdin",
     "output_type": "stream",
     "text": [
      "ENTER THE RADIUS 89\n"
     ]
    },
    {
     "name": "stdout",
     "output_type": "stream",
     "text": [
      "AREA OF THE GIVEN RADIUS IS 24884.55540908475\n",
      "VOLUME OF THE GIVEN RADIUS IS 2952967.241878057\n"
     ]
    }
   ],
   "source": [
    "#16\n",
    "from math import pi\n",
    "r = float(input(\"ENTER THE RADIUS\"))\n",
    "area = pi * r**2\n",
    "volume = 4/3 * pi * r**3\n",
    "print(\"AREA OF THE GIVEN RADIUS IS\",area)\n",
    "print(\"VOLUME OF THE GIVEN RADIUS IS\",volume)"
   ]
  },
  {
   "cell_type": "code",
   "execution_count": 15,
   "metadata": {},
   "outputs": [
    {
     "name": "stdin",
     "output_type": "stream",
     "text": [
      "Amount of water in milliliters:  256\n",
      "TEMPARATURE INCRESES 22\n"
     ]
    },
    {
     "name": "stdout",
     "output_type": "stream",
     "text": [
      "REQUIRED JOULES OF ENERGY IS 23575.552\n",
      "ENERGY COST IS 0.05826768403456\n"
     ]
    }
   ],
   "source": [
    "#17.\n",
    "WATER_HEAT_CAPACITY = 4.186\n",
    "ELECTRICITY_PRICE = 8.9\n",
    "J_TO_KWH = 2.777e-7\n",
    "volume = float(input(\"Amount of water in milliliters: \"))\n",
    "d_temp = float(input(\"TEMPARATURE INCRESES\"))\n",
    "q = volume * d_temp * WATER_HEAT_CAPACITY\n",
    "print(\"REQUIRED JOULES OF ENERGY IS\",q)\n",
    "kwh = q * J_TO_KWH\n",
    "cost = kwh * ELECTRICITY_PRICE\n",
    "print(\"ENERGY COST IS\",cost)"
   ]
  },
  {
   "cell_type": "code",
   "execution_count": 16,
   "metadata": {},
   "outputs": [
    {
     "name": "stdin",
     "output_type": "stream",
     "text": [
      "ENTER THE RADIUS OF THE CYLINDER 45\n",
      "ENTER THE HEIGHT OF THE CYLINDER 48\n"
     ]
    },
    {
     "name": "stdout",
     "output_type": "stream",
     "text": [
      "VOLUME THE CYLINDER IS 305362.80592892785\n"
     ]
    }
   ],
   "source": [
    "#18\n",
    "from math import pi\n",
    "radius = float(input(\"ENTER THE RADIUS OF THE CYLINDER\"))\n",
    "height = float(input(\"ENTER THE HEIGHT OF THE CYLINDER\"))\n",
    "volume_of_the_cylinder = pi* radius**2 *height\n",
    "print(\"VOLUME THE CYLINDER IS\",volume_of_the_cylinder)\n"
   ]
  },
  {
   "cell_type": "code",
   "execution_count": 17,
   "metadata": {},
   "outputs": [
    {
     "name": "stdin",
     "output_type": "stream",
     "text": [
      "ENTER THE HEIGHT ITS DROPPED IN METERS 852\n"
     ]
    },
    {
     "name": "stdout",
     "output_type": "stream",
     "text": [
      "THE OBJECT HITS THE GROUND AT 129.22538450320044 m/s\n"
     ]
    }
   ],
   "source": [
    "#19\n",
    "from math import sqrt \n",
    "Gravity = 9.8\n",
    "dropped_height = float(input(\"ENTER THE HEIGHT ITS DROPPED IN METERS\"))\n",
    "velocity = sqrt(2*Gravity *dropped_height)\n",
    "print(\"THE OBJECT HITS THE GROUND AT\",velocity,\"m/s\")"
   ]
  },
  {
   "cell_type": "code",
   "execution_count": 18,
   "metadata": {},
   "outputs": [
    {
     "name": "stdin",
     "output_type": "stream",
     "text": [
      "ENTER THE BASE LENGHT OF THE TRIANGLE 55\n",
      "ENTER THE LENGHT OF THE TRIANGLE 56\n"
     ]
    },
    {
     "name": "stdout",
     "output_type": "stream",
     "text": [
      "THE AREA OF TRIANGLE IS 1540.0\n"
     ]
    }
   ],
   "source": [
    "#20\n",
    "base_lenght = int(input(\"ENTER THE BASE LENGHT OF THE TRIANGLE\"))\n",
    "height = int(input(\"ENTER THE LENGHT OF THE TRIANGLE\"))\n",
    "area = (base_lenght * height)/2\n",
    "print(\"THE AREA OF TRIANGLE IS\",area)"
   ]
  },
  {
   "cell_type": "code",
   "execution_count": 19,
   "metadata": {},
   "outputs": [
    {
     "name": "stdin",
     "output_type": "stream",
     "text": [
      "LENGHT OF FIRST SIDE 45\n",
      "LENGHT OF SECOND SIDE 48\n",
      "LENGHT OF THIRD SIDE 46\n"
     ]
    },
    {
     "name": "stdout",
     "output_type": "stream",
     "text": [
      "AREA OF TRIANGLE IS 927.5313673941167\n"
     ]
    }
   ],
   "source": [
    "#21\n",
    "from math import sqrt\n",
    "s1 = int(input(\"LENGHT OF FIRST SIDE\"))\n",
    "s2 = int(input(\"LENGHT OF SECOND SIDE\"))\n",
    "s3 = int(input(\"LENGHT OF THIRD SIDE\"))\n",
    "S = (s1 + s2 + s3)/2\n",
    "area = sqrt(S * (S-s1) * (S-s2) * (S-s3))\n",
    "print(\"AREA OF TRIANGLE IS\",area)\n"
   ]
  },
  {
   "cell_type": "code",
   "execution_count": 20,
   "metadata": {},
   "outputs": [
    {
     "name": "stdin",
     "output_type": "stream",
     "text": [
      "ENTER LENGHT OF THE SIDE 89\n",
      "ENTER TOTAL NUMBER OF SIDES 4\n"
     ]
    },
    {
     "name": "stdout",
     "output_type": "stream",
     "text": [
      "THE AREA OF REGULAR POLYGON IS 7920.999999999999\n"
     ]
    }
   ],
   "source": [
    "#23\n",
    "from math import pi , tan\n",
    "s = int(input(\"ENTER LENGHT OF THE SIDE\"))\n",
    "n = int(input(\"ENTER TOTAL NUMBER OF SIDES\"))\n",
    "area = (n * s**2)/4 * tan(pi/n)\n",
    "print(\"THE AREA OF REGULAR POLYGON IS\",area)\n"
   ]
  },
  {
   "cell_type": "code",
   "execution_count": 21,
   "metadata": {},
   "outputs": [
    {
     "name": "stdin",
     "output_type": "stream",
     "text": [
      "ENTER THE DAYS 2\n"
     ]
    },
    {
     "name": "stdout",
     "output_type": "stream",
     "text": [
      "the total hours for given days is 48\n",
      "the total minutes for given dyas is 2880\n",
      "the total seconds for given days is 172800\n"
     ]
    }
   ],
   "source": [
    "#24\n",
    "n = int(input(\"ENTER THE DAYS\"))\n",
    "hours = n * 24\n",
    "minutes = hours * 60\n",
    "seconds = minutes *60\n",
    "print(\"the total hours for given days is\", hours)\n",
    "print(\"the total minutes for given dyas is\",minutes)\n",
    "print(\"the total seconds for given days is\",seconds)\n"
   ]
  },
  {
   "cell_type": "code",
   "execution_count": 22,
   "metadata": {},
   "outputs": [
    {
     "name": "stdin",
     "output_type": "stream",
     "text": [
      "enter the total number of seconds 256\n"
     ]
    },
    {
     "name": "stdout",
     "output_type": "stream",
     "text": [
      "the minutes for given seconds are 4.266666666666667\n",
      "the hours for given seconds are 0.07111111111111111\n",
      "the days for given seconds are 0.002962962962962963\n"
     ]
    }
   ],
   "source": [
    "#25\n",
    "n = int(input(\"enter the total number of seconds\"))\n",
    "minutes = n / 60\n",
    "hours = minutes /60\n",
    "days = hours /24\n",
    "print(\"the minutes for given seconds are\",minutes)\n",
    "print(\"the hours for given seconds are\",hours)\n",
    "print(\"the days for given seconds are\",days)\n"
   ]
  },
  {
   "cell_type": "code",
   "execution_count": 23,
   "metadata": {},
   "outputs": [
    {
     "name": "stdout",
     "output_type": "stream",
     "text": [
      "Number of ticks since 12:00am, January 1, 1970: 1653843605.91161\n"
     ]
    }
   ],
   "source": [
    "#26\n",
    "import time\n",
    "n = time.time()\n",
    "print(\"Number of ticks since 12:00am, January 1, 1970:\",n)"
   ]
  },
  {
   "cell_type": "code",
   "execution_count": 24,
   "metadata": {},
   "outputs": [
    {
     "name": "stdin",
     "output_type": "stream",
     "text": [
      "ENTER THE WEIGHT IN KILOGRAMS 85\n",
      "ENTER THE HEIGHT IN METERS 29\n"
     ]
    },
    {
     "name": "stdout",
     "output_type": "stream",
     "text": [
      "BMI OFB THE GIVEN HEIGHT AND WEIGHT IS 0.10107015457788347\n"
     ]
    }
   ],
   "source": [
    "#28\n",
    "weight = int(input(\"ENTER THE WEIGHT IN KILOGRAMS\"))\n",
    "height = float(input(\"ENTER THE HEIGHT IN METERS\"))\n",
    "BMI = (weight)/(height*height)\n",
    "print(\"BMI OFB THE GIVEN HEIGHT AND WEIGHT IS\",BMI)"
   ]
  },
  {
   "cell_type": "code",
   "execution_count": 25,
   "metadata": {},
   "outputs": [
    {
     "name": "stdin",
     "output_type": "stream",
     "text": [
      "enter the temparature in degrees 40\n",
      "enter the speed in kmph 261\n"
     ]
    },
    {
     "name": "stdout",
     "output_type": "stream",
     "text": [
      "THE WIND CHILL INDEX FOR GIVEN INPUTS IS 48.9172672004376\n"
     ]
    }
   ],
   "source": [
    "#29\n",
    "temp = float(input(\"enter the temparature in degrees\"))\n",
    "speed = float(input(\"enter the speed in kmph\"))\n",
    "WCI = 13.12 + 0.6215 * temp - 11.37* speed **0.16 + 0.3965 * temp * speed ** 0.16\n",
    "print(\"THE WIND CHILL INDEX FOR GIVEN INPUTS IS\",WCI)"
   ]
  },
  {
   "cell_type": "code",
   "execution_count": 26,
   "metadata": {},
   "outputs": [
    {
     "name": "stdin",
     "output_type": "stream",
     "text": [
      "ENTER THE TEMPARATURE IN DEGREE CELSIUS 40\n"
     ]
    },
    {
     "name": "stdout",
     "output_type": "stream",
     "text": [
      "THE FAHRENHEIT OF GIVEN CELSIUS IS 104.0\n",
      "THE KELVIN OF GIVEN CELSIUS IS 313.15\n"
     ]
    }
   ],
   "source": [
    "#30\n",
    "temp = float(input(\"ENTER THE TEMPARATURE IN DEGREE CELSIUS\"))\n",
    "Fahrenheit = (temp * 9/5)+32\n",
    "Kelvin = temp + 273.15\n",
    "print(\"THE FAHRENHEIT OF GIVEN CELSIUS IS\",Fahrenheit)\n",
    "print(\"THE KELVIN OF GIVEN CELSIUS IS\",Kelvin)"
   ]
  },
  {
   "cell_type": "code",
   "execution_count": 27,
   "metadata": {},
   "outputs": [
    {
     "name": "stdin",
     "output_type": "stream",
     "text": [
      "ENTER THE PRESSURE IN KILOPASCALS 100\n"
     ]
    },
    {
     "name": "stdout",
     "output_type": "stream",
     "text": [
      "THE PRESSURE IN POUNDS PER SQUARE INCH IS 14.503263234227703\n"
     ]
    }
   ],
   "source": [
    "#31\n",
    "p = float(input(\"ENTER THE PRESSURE IN KILOPASCALS\"))\n",
    "pressure = (p) / 6.895\n",
    "print(\"THE PRESSURE IN POUNDS PER SQUARE INCH IS\",pressure)"
   ]
  },
  {
   "cell_type": "code",
   "execution_count": 28,
   "metadata": {},
   "outputs": [
    {
     "name": "stdin",
     "output_type": "stream",
     "text": [
      "ENTER THE FOUR NUMBERS 4562\n",
      "first number 4\n",
      "second number 5\n",
      "third number 6\n",
      "fourth number 2\n"
     ]
    },
    {
     "name": "stdout",
     "output_type": "stream",
     "text": [
      "the sum of four digits are  17\n"
     ]
    }
   ],
   "source": [
    "#32\n",
    "numbers = int(input(\"ENTER THE FOUR NUMBERS\",))\n",
    "X = int(input(\"first number\"))\n",
    "X1 = int(input(\"second number\"))\n",
    "X2 = int(input(\"third number\"))\n",
    "X3 = int(input(\"fourth number\"))\n",
    "print(\"the sum of four digits are \",X+X1+X2+X3)\n"
   ]
  },
  {
   "cell_type": "code",
   "execution_count": 29,
   "metadata": {},
   "outputs": [
    {
     "name": "stdin",
     "output_type": "stream",
     "text": [
      "enter the first number 8\n",
      "enter the second number 6\n",
      "enter the third number 9\n"
     ]
    },
    {
     "name": "stdout",
     "output_type": "stream",
     "text": [
      "THE SORTED NUMBERS ARE\n",
      " 6\n",
      " 8\n",
      " 9\n"
     ]
    }
   ],
   "source": [
    "#33\n",
    "a = int(input(\"enter the first number\"))\n",
    "b = int(input(\"enter the second number\"))\n",
    "c = int(input(\"enter the third number\"))\n",
    "mi = min(a,b,c)\n",
    "ma = max(a,b,c)\n",
    "md = a+b+c-mi-ma\n",
    "print(\"THE SORTED NUMBERS ARE\")\n",
    "print(\"\",mi)\n",
    "print(\"\",md)\n",
    "print(\"\",ma)"
   ]
  },
  {
   "cell_type": "code",
   "execution_count": 30,
   "metadata": {},
   "outputs": [
    {
     "name": "stdin",
     "output_type": "stream",
     "text": [
      "ENTER THE NUMBER OF DAY OLD LOAVES 89\n"
     ]
    },
    {
     "name": "stdout",
     "output_type": "stream",
     "text": [
      "REGULAR PRICE WITHOUT DISCOUNT 310.61\n",
      "DISCOUNT PRICE IS 186.366\n",
      "TOTAL PRICE AFTER DISCOUNT 124.244\n"
     ]
    }
   ],
   "source": [
    "#34\n",
    "bread_price = 3.49\n",
    "discount_rate = 0.60\n",
    "num_loaves = int(input(\"ENTER THE NUMBER OF DAY OLD LOAVES\"))\n",
    "regular_price = num_loaves * bread_price\n",
    "discount = regular_price * 0.60\n",
    "total = regular_price - discount\n",
    "print(\"REGULAR PRICE WITHOUT DISCOUNT\",regular_price)\n",
    "print(\"DISCOUNT PRICE IS\",discount)\n",
    "print(\"TOTAL PRICE AFTER DISCOUNT\",total)"
   ]
  },
  {
   "cell_type": "code",
   "execution_count": null,
   "metadata": {},
   "outputs": [],
   "source": []
  }
 ],
 "metadata": {
  "kernelspec": {
   "display_name": "Python 3",
   "language": "python",
   "name": "python3"
  },
  "language_info": {
   "codemirror_mode": {
    "name": "ipython",
    "version": 3
   },
   "file_extension": ".py",
   "mimetype": "text/x-python",
   "name": "python",
   "nbconvert_exporter": "python",
   "pygments_lexer": "ipython3",
   "version": "3.7.6"
  }
 },
 "nbformat": 4,
 "nbformat_minor": 4
}
