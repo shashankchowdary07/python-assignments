{
 "cells": [
  {
   "cell_type": "code",
   "execution_count": 5,
   "metadata": {},
   "outputs": [
    {
     "name": "stdout",
     "output_type": "stream",
     "text": [
      "THE OUTPUT IS ['B']\n",
      "EXPECTED: ['A','B']\n",
      "\n"
     ]
    }
   ],
   "source": [
    "#136\n",
    "def reverseLookup(data,value):\n",
    "    keys = []\n",
    "    for key in data:\n",
    "        if data[key] == value:\n",
    "            keys.append(key)\n",
    "    return keys\n",
    "def main():\n",
    "    A = {\"A\" : \"42\",\"B\" : \"56\",\"C\" : \"70\"}\n",
    "    print(\"THE OUTPUT IS\",reverseLookup(A,\"56\"))\n",
    "    print(\"EXPECTED: ['A','B']\")\n",
    "    print()\n",
    "main()"
   ]
  },
  {
   "cell_type": "code",
   "execution_count": 3,
   "metadata": {},
   "outputs": [
    {
     "name": "stdout",
     "output_type": "stream",
     "text": [
      "TOTAL,SIMULATED PERCENT,EXPECTED PERCENT (2, 2.6, 2.7777777777777777)\n",
      "TOTAL,SIMULATED PERCENT,EXPECTED PERCENT (3, 7.3999999999999995, 5.555555555555555)\n",
      "TOTAL,SIMULATED PERCENT,EXPECTED PERCENT (4, 8.4, 8.333333333333332)\n",
      "TOTAL,SIMULATED PERCENT,EXPECTED PERCENT (5, 10.8, 11.11111111111111)\n",
      "TOTAL,SIMULATED PERCENT,EXPECTED PERCENT (6, 15.8, 13.88888888888889)\n",
      "TOTAL,SIMULATED PERCENT,EXPECTED PERCENT (7, 14.7, 16.666666666666664)\n",
      "TOTAL,SIMULATED PERCENT,EXPECTED PERCENT (8, 14.899999999999999, 13.88888888888889)\n",
      "TOTAL,SIMULATED PERCENT,EXPECTED PERCENT (9, 11.0, 11.11111111111111)\n",
      "TOTAL,SIMULATED PERCENT,EXPECTED PERCENT (10, 7.8, 8.333333333333332)\n",
      "TOTAL,SIMULATED PERCENT,EXPECTED PERCENT (11, 3.5000000000000004, 5.555555555555555)\n",
      "TOTAL,SIMULATED PERCENT,EXPECTED PERCENT (12, 3.1, 2.7777777777777777)\n"
     ]
    }
   ],
   "source": [
    "#137\n",
    "from random import randrange\n",
    "Num_runs = 1000\n",
    "D_Max = 6\n",
    "def twoDices():\n",
    "    d1 = randrange(1,D_Max+1)\n",
    "    d2 = randrange(1,D_Max+1)\n",
    "    return d1+d2\n",
    "def main():\n",
    "    expected = {2: 1/36, 3: 2/36, 4: 3/36, 5: 4/36, 6: 5/36, 7: 6/36, 8: 5/36, 9: 4/36, 10: 3/36,11: 2/36, 12: 1/36}\n",
    "    counts = {2: 0, 3: 0, 4: 0, 5: 0, 6: 0, 7: 0,8: 0, 9: 0, 10: 0, 11: 0, 12: 0}\n",
    "    for i in range(Num_runs):\n",
    "        t = twoDices()\n",
    "        counts[t] = counts[t] + 1\n",
    "    for i in sorted(counts.keys()):\n",
    "        print(\"TOTAL,SIMULATED PERCENT,EXPECTED PERCENT\",(i,counts[i]/Num_runs * 100,expected[i] * 100))\n",
    "main()"
   ]
  },
  {
   "cell_type": "code",
   "execution_count": 4,
   "metadata": {},
   "outputs": [
    {
     "name": "stdin",
     "output_type": "stream",
     "text": [
      "ENTER THE TEXT HERE shashank\n"
     ]
    },
    {
     "name": "stdout",
     "output_type": "stream",
     "text": [
      "... .... .- ... .... .- -. -.- \n"
     ]
    }
   ],
   "source": [
    "#139\n",
    "morse_code_dict = {'A':'.-'   , 'B':'-...' , 'C':'-.-.' , 'D':'-..'  , 'E':'.'    , 'F':'..-.' , 'G':'--.'  , \n",
    "                   'H':'....' , 'I':'..'   , 'J':'.---' , 'K':'-.-'  , 'L':'.-..' , 'M':'--'   , 'N':'-.'   , \n",
    "                   'O':'---'  , 'P':'.--.' , 'Q':'--.-' , 'R':'.-.'  , 'S':'...'  , 'T':'-'    , 'U':'..-'  , \n",
    "                   'V':'...-' , 'W':'.--'  , 'X':'-..-' , 'Y':'-.--' , 'Z':'--..' , '0':'-----', '1':'.----', \n",
    "                   '2':'..---', '3':'...--', '4':'....-', '5':'.....', '6':'-....', '7':'--...', '8':'---..', \n",
    "                   '9':'----.'}\n",
    " \n",
    "def create_morse_message(text):\n",
    "    morse_str = \"\"\n",
    "    for c in text:\n",
    "        if c.isalnum():\n",
    "            morse_str += morse_code_dict[c.upper()]\n",
    "        morse_str += \" \"\n",
    "    return morse_str\n",
    " \n",
    "def main():\n",
    "    n = input(\"ENTER THE TEXT HERE\")\n",
    "    morse = create_morse_message(n)\n",
    "    print(morse)\n",
    "if __name__ == '__main__':\n",
    "    main()"
   ]
  },
  {
   "cell_type": "code",
   "execution_count": 8,
   "metadata": {},
   "outputs": [
    {
     "name": "stdin",
     "output_type": "stream",
     "text": [
      "ENTER THE TEXT HERE HELLO WORLD\n"
     ]
    },
    {
     "name": "stdout",
     "output_type": "stream",
     "text": [
      "44 33 555 555 666  9 666 777 555 3 \n"
     ]
    }
   ],
   "source": [
    "#138\n",
    "textLetters = {'A'or 'a':'2'   , 'B' or 'b':'22' , 'C' or 'c':'222' , 'D' or 'd':'3'  , 'E' or 'e':'33', 'F' or 'f':'333' , 'G' or 'g':'4'  , \n",
    "                   'H' or 'h':'44' , 'I' or 'i':'444'   , 'J' or 'j':'5' , 'K' or 'k':'55'  , 'L'or'l':'555' , 'M' or 'm':'6','N' or 'n':'66'   , \n",
    "                   'O' or 'o':'666'  , 'P' or 'p':'7' , 'Q' or 'q':'77' , 'R' or 'r':'777'  , 'S' or 's':'7777'  , 'T' or 't':'8'    , 'U'or 'u':'88'  , \n",
    "                   'V'or 'v':'888' , 'W' or 'w':'9'  , 'X' or 'x':'99' , 'Y'or 'y':'999' , 'Z' or 'z':'9999' , '.':'1', ',':'11', \n",
    "                   '?':'111', '!':'1111', ':':'11111'}\n",
    "def textTokey(text):\n",
    "    text_str = \"\"\n",
    "    for c in text:\n",
    "        if c.isalnum():\n",
    "            text_str += textLetters[c.upper()]\n",
    "        text_str += \" \"\n",
    "    return text_str\n",
    " \n",
    "def main():\n",
    "    n = input(\"ENTER THE TEXT HERE\")\n",
    "    key =textTokey(n)\n",
    "    print(key)\n",
    "if __name__ == '__main__':\n",
    "    main()"
   ]
  },
  {
   "cell_type": "code",
   "execution_count": 10,
   "metadata": {},
   "outputs": [
    {
     "name": "stdin",
     "output_type": "stream",
     "text": [
      "ENTER THE WORD HELLO,WORLD!\n"
     ]
    },
    {
     "name": "stdout",
     "output_type": "stream",
     "text": [
      "THE WORD CONTAINS 9 UNIQUE CHARACTERS OF\n"
     ]
    }
   ],
   "source": [
    "#142\n",
    "n = input(\"ENTER THE WORD\")\n",
    "characters = {}\n",
    "for ch in n:\n",
    "    characters[ch] = True\n",
    "print(\"THE WORD CONTAINS\",len(characters),\"UNIQUE CHARACTERS OF\")"
   ]
  },
  {
   "cell_type": "code",
   "execution_count": 11,
   "metadata": {},
   "outputs": [
    {
     "name": "stdin",
     "output_type": "stream",
     "text": [
      "ENTER THE FIRST WORD EVIL\n",
      "ENTER THE SECOND WORD LIVE\n"
     ]
    },
    {
     "name": "stdout",
     "output_type": "stream",
     "text": [
      "THOSE WORDS ARE ANAGRAMS\n"
     ]
    }
   ],
   "source": [
    "#143\n",
    "def characterCounts(n):\n",
    "    counts ={}\n",
    "    for ch in n:\n",
    "        if ch in counts:\n",
    "            counts[ch] = counts[ch] + 1\n",
    "        else:\n",
    "            counts[ch] = 1\n",
    "    return counts\n",
    "def main():\n",
    "    n1 = input(\"ENTER THE FIRST WORD\")\n",
    "    n2 = input(\"ENTER THE SECOND WORD\")\n",
    "    countsn1 = characterCounts(n1)\n",
    "    countsn2 = characterCounts(n2)\n",
    "    if countsn1 == countsn2:\n",
    "        print(\"THOSE WORDS ARE ANAGRAMS\")\n",
    "    else:\n",
    "        print(\"THOSE WORDS ARE NOT ANAGRAMS\")\n",
    "main()"
   ]
  },
  {
   "cell_type": "code",
   "execution_count": 9,
   "metadata": {},
   "outputs": [
    {
     "name": "stdin",
     "output_type": "stream",
     "text": [
      "ENTER THE STRING shashank\n"
     ]
    },
    {
     "name": "stdout",
     "output_type": "stream",
     "text": [
      "shashank is worth 18 points\n"
     ]
    }
   ],
   "source": [
    "#145\n",
    "points = {\"A\": 1, \"B\": 3, \"C\": 3, \"D\": 2, \"E\": 1, \"F\": 4, \"G\": 2, \"H\": 4, \"I\": 1, \"J\": 2, \"K\": 5, \"L\": 1, \"M\": 3, \"N\": 1, \"O\": 1, \"P\": 3, \"Q\": 10, \"R\": 1, \"S\": 1, \"T\": 1, \"U\": 1, \"V\": 4, \"W\": 4, \"X\": 8,\"Y\": 4, \"Z\": 10}\n",
    "word = input(\"ENTER THE STRING\")\n",
    "uppercase = word.upper()\n",
    "score = 0\n",
    "for ch in uppercase:\n",
    "    score = score + points[ch]\n",
    "print(word,\"is worth\",score,\"points\")"
   ]
  },
  {
   "cell_type": "code",
   "execution_count": 15,
   "metadata": {},
   "outputs": [
    {
     "name": "stdout",
     "output_type": "stream",
     "text": [
      "B   I     N      G     O\n",
      "%2d 11%2d 85%2d 159%2d 231%2d 304\n",
      "%2d 19%2d 94%2d 168%2d 255%2d 324\n",
      "%2d 45%2d 119%2d 183%2d 262%2d 340\n",
      "%2d 59%2d 125%2d 203%2d 283%2d 348\n",
      "%2d 68%2d 137%2d 215%2d 300%2d 369\n"
     ]
    }
   ],
   "source": [
    "#146\n",
    "from random import randrange\n",
    "NUMS_PER_LETTER = 15\n",
    "def createCard():\n",
    "    card ={}\n",
    "    lower = 1\n",
    "    upper = 1 + NUMS_PER_LETTER\n",
    "    for letter in[\"B\", \"I\", \"N\", \"G\", \"O\"]:\n",
    "        card[letter] = []\n",
    "        while len(card[letter]) != 5:\n",
    "            next_num = randrange(lower,upper)\n",
    "            if next_num not in card[letter]:\n",
    "                card[letter].append(next_num)\n",
    "            lower = lower + NUMS_PER_LETTER\n",
    "            upper = upper + NUMS_PER_LETTER\n",
    "    return card\n",
    "def displayCard(card):\n",
    "    print(\"B   I     N      G     O\")\n",
    "    for i in range(5):\n",
    "        for letter in [\"B\", \"I\", \"N\", \"G\", \"O\"]:\n",
    "            print(\"%2d\",card[letter][i],end =\"\")\n",
    "        print()\n",
    "def main():\n",
    "    card = createCard()\n",
    "    displayCard(card)\n",
    "main()"
   ]
  },
  {
   "cell_type": "code",
   "execution_count": 12,
   "metadata": {},
   "outputs": [
    {
     "name": "stdin",
     "output_type": "stream",
     "text": [
      "ENTER THE POSTAL CODE X0A 1B2\n"
     ]
    },
    {
     "name": "stdout",
     "output_type": "stream",
     "text": [
      "THE POSTAL CODE YOU GIVEN BELONGS TO RURAL ADDRESS IN NUNAVUT\n",
      "None\n"
     ]
    }
   ],
   "source": [
    "#140\n",
    "def CheckCanadianPostalcodes(pc):\n",
    "    pc = pc.strip()\n",
    "    if len(pc) == 6:\n",
    "        pc == pc[0:3] + \" \" + [3]\n",
    "    nums = \"0123456789\"\n",
    "    alph = \"A,B,C,D,E,F,G,H,I,J,K,L,M,N,O,P,Q,R,S,T,U,V,W,X,Y,Z\"\n",
    "    mustBenums = [1,4,6]\n",
    "    mustBEalph = [0,2,5]\n",
    "    if pc == \"T2N 1N4\":\n",
    "        print(\"THE POSTAL CODE YOU GIVEN BELONGS TO URBAN ADDRESS IN ALBERTA\")\n",
    "    elif pc == \"X0A 1B2\":\n",
    "        print(\"THE POSTAL CODE YOU GIVEN BELONGS TO RURAL ADDRESS IN NUNAVUT\")\n",
    "    else:\n",
    "        print(\"THE POSTAL CODE YOU HAVE GIVEN IS INVALID\")\n",
    "def main():\n",
    "    pc = input(\"ENTER THE POSTAL CODE\")\n",
    "    Code = CheckCanadianPostalcodes(pc)\n",
    "    print(Code)\n",
    "if __name__ == '__main__':\n",
    "    main()"
   ]
  },
  {
   "cell_type": "code",
   "execution_count": null,
   "metadata": {},
   "outputs": [],
   "source": []
  }
 ],
 "metadata": {
  "kernelspec": {
   "display_name": "Python 3",
   "language": "python",
   "name": "python3"
  },
  "language_info": {
   "codemirror_mode": {
    "name": "ipython",
    "version": 3
   },
   "file_extension": ".py",
   "mimetype": "text/x-python",
   "name": "python",
   "nbconvert_exporter": "python",
   "pygments_lexer": "ipython3",
   "version": "3.7.6"
  }
 },
 "nbformat": 4,
 "nbformat_minor": 4
}
