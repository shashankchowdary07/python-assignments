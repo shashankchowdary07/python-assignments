{
 "cells": [
  {
   "cell_type": "code",
   "execution_count": 1,
   "metadata": {},
   "outputs": [
    {
     "name": "stdin",
     "output_type": "stream",
     "text": [
      "ENTER NUMBER OF ROWS 5\n"
     ]
    },
    {
     "name": "stdout",
     "output_type": "stream",
     "text": [
      "* \n",
      "* * \n",
      "* * * \n",
      "* * * * \n",
      "* * * * * \n"
     ]
    }
   ],
   "source": [
    "#1\n",
    "n = int(input(\"ENTER NUMBER OF ROWS\"))\n",
    "def pattern(n):\n",
    "    for i in range(n):\n",
    "        for j in range(i+1):\n",
    "            print(\"*\", end = \" \")\n",
    "        print(\"\\r\")\n",
    "pattern(n)"
   ]
  },
  {
   "cell_type": "code",
   "execution_count": 2,
   "metadata": {},
   "outputs": [
    {
     "name": "stdin",
     "output_type": "stream",
     "text": [
      "ENTER NUMBER OF ROWS 5\n"
     ]
    },
    {
     "name": "stdout",
     "output_type": "stream",
     "text": [
      "        * \n",
      "      * * \n",
      "    * * * \n",
      "  * * * * \n",
      "* * * * * \n"
     ]
    }
   ],
   "source": [
    "#2\n",
    "n = int(input(\"ENTER NUMBER OF ROWS\"))\n",
    "def pattern(n):\n",
    "    for i in range(n):\n",
    "        for j in range(n-i-1):\n",
    "            print(\" \", end = \" \")\n",
    "        for j in range(i+1):\n",
    "            print(\"* \", end = \"\")\n",
    "        print()\n",
    "pattern(n)"
   ]
  },
  {
   "cell_type": "code",
   "execution_count": 3,
   "metadata": {},
   "outputs": [
    {
     "name": "stdin",
     "output_type": "stream",
     "text": [
      "ENTER NUMBER OF ROWS 4\n"
     ]
    },
    {
     "name": "stdout",
     "output_type": "stream",
     "text": [
      "***\n",
      "**\n",
      "*\n",
      "\n"
     ]
    }
   ],
   "source": [
    "#3\n",
    "n = int(input(\"ENTER NUMBER OF ROWS\"))\n",
    "def pattern(n):\n",
    "    for i in range(n):\n",
    "        for j in range(n-i-1):\n",
    "            print(\"*\", end =\"\")\n",
    "        print(\"\\r\")\n",
    "pattern(n)"
   ]
  },
  {
   "cell_type": "code",
   "execution_count": 4,
   "metadata": {},
   "outputs": [
    {
     "name": "stdin",
     "output_type": "stream",
     "text": [
      "ENTER NUMBER OF ROWS 6\n"
     ]
    },
    {
     "name": "stdout",
     "output_type": "stream",
     "text": [
      "  * * * * * \n",
      "    * * * * \n",
      "      * * * \n",
      "        * * \n",
      "          * \n"
     ]
    }
   ],
   "source": [
    "#4\n",
    "n = int(input(\"ENTER NUMBER OF ROWS\"))\n",
    "def pattern(n):\n",
    "    for i in range(n-1):\n",
    "        for j in range(i+1):\n",
    "            print(\" \", end = \" \")\n",
    "        for j in range(n-i-1):\n",
    "            print(\"* \", end =\"\")\n",
    "        print()\n",
    "pattern(n)"
   ]
  },
  {
   "cell_type": "code",
   "execution_count": 5,
   "metadata": {},
   "outputs": [
    {
     "name": "stdin",
     "output_type": "stream",
     "text": [
      "ENTER NUMBER OF ROWS 5\n"
     ]
    },
    {
     "name": "stdout",
     "output_type": "stream",
     "text": [
      "\n",
      "1\n",
      "22\n",
      "333\n",
      "4444\n"
     ]
    }
   ],
   "source": [
    "#7\n",
    "n = int(input(\"ENTER NUMBER OF ROWS\"))\n",
    "for i in range(n):\n",
    "    for j in range(i):\n",
    "        print(i,end =\"\")\n",
    "    print('')"
   ]
  },
  {
   "cell_type": "code",
   "execution_count": 6,
   "metadata": {},
   "outputs": [
    {
     "name": "stdin",
     "output_type": "stream",
     "text": [
      "ENTER NO OF ROWS 8\n"
     ]
    },
    {
     "name": "stdout",
     "output_type": "stream",
     "text": [
      "0\n",
      "11\n",
      "222\n",
      "3333\n",
      "44444\n",
      "555555\n",
      "6666666\n",
      "77777777\n"
     ]
    }
   ],
   "source": [
    "#8\n",
    "n = int(input(\"ENTER NO OF ROWS\"))\n",
    "def pattern(n):\n",
    "    for i in range(n):\n",
    "        for j in range(i-n-1):\n",
    "            print(\"\", end = \" \")\n",
    "        for j in range(i+1):\n",
    "            print(i,end =\"\")\n",
    "        print()\n",
    "pattern(n)"
   ]
  },
  {
   "cell_type": "code",
   "execution_count": 7,
   "metadata": {},
   "outputs": [
    {
     "name": "stdin",
     "output_type": "stream",
     "text": [
      "ENTER NUMBER OF ROWS 4\n"
     ]
    },
    {
     "name": "stdout",
     "output_type": "stream",
     "text": [
      "1111\n",
      "222\n",
      "33\n",
      "4\n"
     ]
    }
   ],
   "source": [
    "#9\n",
    "n = int(input(\"ENTER NUMBER OF ROWS\"))\n",
    "m = 0\n",
    "for i in range(n,0,-1):\n",
    "    m+=1\n",
    "    for j in range(1,i+1):\n",
    "        print(m,end=\"\")\n",
    "    print('\\r')"
   ]
  },
  {
   "cell_type": "code",
   "execution_count": 8,
   "metadata": {},
   "outputs": [
    {
     "name": "stdin",
     "output_type": "stream",
     "text": [
      "ENTER NUMBER OF ROWS 5\n"
     ]
    },
    {
     "name": "stdout",
     "output_type": "stream",
     "text": [
      " 1111\n",
      "  222\n",
      "   33\n",
      "    4\n"
     ]
    }
   ],
   "source": [
    "#10\n",
    "n = int(input(\"ENTER NUMBER OF ROWS\"))\n",
    "m =0\n",
    "for i in range(n-1):\n",
    "    m  += 1\n",
    "    for j in range(i+1):\n",
    "        print(\" \", end = \"\")\n",
    "    for j in range(n-i-1):\n",
    "        print(m , end =\"\")\n",
    "    print()"
   ]
  },
  {
   "cell_type": "code",
   "execution_count": 9,
   "metadata": {},
   "outputs": [
    {
     "name": "stdin",
     "output_type": "stream",
     "text": [
      "ENTER NUMBER OF ROWS 5\n"
     ]
    },
    {
     "name": "stdout",
     "output_type": "stream",
     "text": [
      "1\n",
      "12\n",
      "123\n",
      "1234\n",
      "12345\n"
     ]
    }
   ],
   "source": [
    "#11\n",
    "n = int(input(\"ENTER NUMBER OF ROWS\"))\n",
    "for i in range(1,n+1):\n",
    "    for j in range(1,i+1):\n",
    "        print(j,end = \"\")\n",
    "    print()"
   ]
  },
  {
   "cell_type": "code",
   "execution_count": 10,
   "metadata": {},
   "outputs": [
    {
     "name": "stdin",
     "output_type": "stream",
     "text": [
      "ENTER NUMBER OF ROWS 4\n"
     ]
    },
    {
     "name": "stdout",
     "output_type": "stream",
     "text": [
      "   1\n",
      "  12\n",
      " 123\n"
     ]
    }
   ],
   "source": [
    "#12\n",
    "n = int(input(\"ENTER NUMBER OF ROWS\"))\n",
    "for i in range(1,n):\n",
    "    num = 1\n",
    "    for j in range(n,0,-1):\n",
    "        if j>i:\n",
    "            print(\" \",end='')\n",
    "        else:\n",
    "            print(num,end='')\n",
    "            num+=1\n",
    "    print(\"\")"
   ]
  },
  {
   "cell_type": "code",
   "execution_count": 11,
   "metadata": {},
   "outputs": [
    {
     "name": "stdin",
     "output_type": "stream",
     "text": [
      "ENTER NUMBER OF ROWS 4\n"
     ]
    },
    {
     "name": "stdout",
     "output_type": "stream",
     "text": [
      "1234\n",
      "123\n",
      "12\n",
      "1\n"
     ]
    }
   ],
   "source": [
    "#13\n",
    "n = int(input(\"ENTER NUMBER OF ROWS\"))\n",
    "for i in range(n,0,-1):\n",
    "    for j in range(1,i+1):\n",
    "        print(j,end='')\n",
    "    print('\\r')"
   ]
  },
  {
   "cell_type": "code",
   "execution_count": 12,
   "metadata": {},
   "outputs": [
    {
     "name": "stdin",
     "output_type": "stream",
     "text": [
      "ENTER NUMBER OF ROWS 5\n"
     ]
    },
    {
     "name": "stdout",
     "output_type": "stream",
     "text": [
      " 0123\n",
      "  012\n",
      "   01\n",
      "    0\n",
      "     \n",
      "      \n"
     ]
    }
   ],
   "source": [
    "#14\n",
    "n = int(input(\"ENTER NUMBER OF ROWS\"))\n",
    "for i in range(n+1):\n",
    "    for j in range(i+1):\n",
    "        print(\" \", end = \"\")\n",
    "    for j in range(n-i-1):\n",
    "        print(j , end =\"\")\n",
    "    print()"
   ]
  },
  {
   "cell_type": "code",
   "execution_count": 13,
   "metadata": {},
   "outputs": [
    {
     "name": "stdin",
     "output_type": "stream",
     "text": [
      "ENTER NUMBER OF ROWS 4\n"
     ]
    },
    {
     "name": "stdout",
     "output_type": "stream",
     "text": [
      "1 \n",
      "2 3 \n",
      "4 5 6 \n",
      "7 8 9 10 \n"
     ]
    }
   ],
   "source": [
    "#15\n",
    "n = int(input(\"ENTER NUMBER OF ROWS\"))\n",
    "num = 1\n",
    "for i in range(0,n):\n",
    "    for j in range(0,i+1):\n",
    "        print(num,end=\" \") \n",
    "        num = num+1\n",
    "    print()"
   ]
  },
  {
   "cell_type": "code",
   "execution_count": 16,
   "metadata": {},
   "outputs": [
    {
     "name": "stdin",
     "output_type": "stream",
     "text": [
      "Enter the number of rows 5\n"
     ]
    },
    {
     "name": "stdout",
     "output_type": "stream",
     "text": [
      "     * \n",
      "    * * \n",
      "   * * * \n",
      "  * * * * \n",
      " * * * * * \n"
     ]
    }
   ],
   "source": [
    "n = int(input(\"Enter the number of rows\"));\n",
    "for i in range(0, n):\n",
    "    for j in range(0, n-i):\n",
    "        print(end=\" \")\n",
    "    for j in  range(1, i+2):\n",
    "        print(\"*\", end=\" \")\n",
    "    print()"
   ]
  },
  {
   "cell_type": "code",
   "execution_count": null,
   "metadata": {},
   "outputs": [],
   "source": []
  }
 ],
 "metadata": {
  "kernelspec": {
   "display_name": "Python 3",
   "language": "python",
   "name": "python3"
  },
  "language_info": {
   "codemirror_mode": {
    "name": "ipython",
    "version": 3
   },
   "file_extension": ".py",
   "mimetype": "text/x-python",
   "name": "python",
   "nbconvert_exporter": "python",
   "pygments_lexer": "ipython3",
   "version": "3.7.6"
  }
 },
 "nbformat": 4,
 "nbformat_minor": 4
}
