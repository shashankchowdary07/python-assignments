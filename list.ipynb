{
 "cells": [
  {
   "cell_type": "code",
   "execution_count": 1,
   "metadata": {},
   "outputs": [
    {
     "name": "stdin",
     "output_type": "stream",
     "text": [
      "Enter an integer (blank to quit):  5\n",
      "Enter an integer (blank to quit):  -8\n",
      "Enter an integer (blank to quit):  0\n",
      "Enter an integer (blank to quit):  25\n",
      "Enter an integer (blank to quit):  -26\n",
      "Enter an integer (blank to quit):  \n"
     ]
    },
    {
     "name": "stdout",
     "output_type": "stream",
     "text": [
      "The numbers were: \n",
      "-8\n",
      "-26\n",
      "0\n",
      "5\n",
      "25\n"
     ]
    }
   ],
   "source": [
    "#114\n",
    "negatives = []\n",
    "zeros = []\n",
    "positives = []\n",
    "line = input(\"Enter an integer (blank to quit): \")\n",
    "while line != \"\":\n",
    "    num = int(line)\n",
    "    if num < 0:\n",
    "        negatives.append(num)\n",
    "    elif num > 0:\n",
    "        positives.append(num)\n",
    "    else:\n",
    "        zeros.append(num)\n",
    "    line = input(\"Enter an integer (blank to quit): \")\n",
    "print(\"The numbers were: \")\n",
    "for n in negatives:\n",
    "    print(n)\n",
    "for n in zeros:\n",
    "    print(n)\n",
    "for n in positives:\n",
    "    print(n)"
   ]
  },
  {
   "cell_type": "code",
   "execution_count": 3,
   "metadata": {},
   "outputs": [
    {
     "name": "stdin",
     "output_type": "stream",
     "text": [
      "enter an integer(0 to quit) 85\n",
      "enter an integer(0 to quit) 56\n",
      "enter an integer(0 to quit) 21\n",
      "enter an integer(0 to quit) 12\n",
      "enter an integer(0 to quit) 25\n",
      "enter an integer(0 to quit) 78\n",
      "enter an integer(0 to quit) 0\n"
     ]
    },
    {
     "name": "stdout",
     "output_type": "stream",
     "text": [
      "THE VALUES SORTED INTO ASCEMDING ORDER ARE\n",
      "12\n",
      "21\n",
      "25\n",
      "56\n",
      "78\n",
      "85\n"
     ]
    }
   ],
   "source": [
    "#110\n",
    "data = []\n",
    "num = int(input(\"enter an integer(0 to quit)\"))\n",
    "while num != 0:\n",
    "    data.append(num)\n",
    "    num = int(input(\"enter an integer(0 to quit)\"))\n",
    "data.sort()\n",
    "print(\"THE VALUES SORTED INTO ASCEMDING ORDER ARE\")\n",
    "for num in data:\n",
    "    print(num)"
   ]
  },
  {
   "cell_type": "code",
   "execution_count": 4,
   "metadata": {},
   "outputs": [
    {
     "name": "stdin",
     "output_type": "stream",
     "text": [
      "Enter number(o to quit) 55889966\n"
     ]
    },
    {
     "name": "stdout",
     "output_type": "stream",
     "text": [
      "Reverse of the number: 66998855\n"
     ]
    }
   ],
   "source": [
    "#111\n",
    "n=int(input(\"Enter number(o to quit)\"))\n",
    "rev=0\n",
    "while(n>0):\n",
    "    dig=n%10\n",
    "    rev=rev*10+dig\n",
    "    n=n//10\n",
    "print(\"Reverse of the number:\",rev)"
   ]
  },
  {
   "cell_type": "code",
   "execution_count": 5,
   "metadata": {},
   "outputs": [
    {
     "name": "stdin",
     "output_type": "stream",
     "text": [
      "Enter a value (blank line to quit):  5\n",
      "Enter a value (blank line to quit):  6\n",
      "Enter a value (blank line to quit):  8\n",
      "Enter a value (blank line to quit):  9\n",
      "Enter a value (blank line to quit):  2\n",
      "Enter a value (blank line to quit):  1\n",
      "Enter a value (blank line to quit):  \n"
     ]
    },
    {
     "name": "stdout",
     "output_type": "stream",
     "text": [
      "With the outliers removed:  [5.0, 6.0]\n",
      "The original data:  [5.0, 6.0, 8.0, 9.0, 2.0, 1.0]\n"
     ]
    }
   ],
   "source": [
    "#112\n",
    "def removeOutliers(data, num_outliers):\n",
    "    retval = sorted(data)\n",
    "    for i in range(num_outliers):\n",
    "        retval.pop()\n",
    "    for i in range(num_outliers):\n",
    "        retval.pop(0)\n",
    "    return retval\n",
    "def main():\n",
    "    values = []\n",
    "    s = input(\"Enter a value (blank line to quit): \")\n",
    "    while s != \"\":\n",
    "        num = float(s)\n",
    "        values.append(num)\n",
    "        s = input(\"Enter a value (blank line to quit): \")\n",
    "    if len(values) < 4:\n",
    "        print(\"You didn’t enter enough values.\")\n",
    "    else:\n",
    "        print(\"With the outliers removed: \", \\\n",
    "              removeOutliers(values, 2))\n",
    "        print(\"The original data: \", values)\n",
    "main()"
   ]
  },
  {
   "cell_type": "code",
   "execution_count": 8,
   "metadata": {},
   "outputs": [
    {
     "name": "stdin",
     "output_type": "stream",
     "text": [
      "Enter an integer(blank to quit) 125\n"
     ]
    },
    {
     "name": "stdout",
     "output_type": "stream",
     "text": [
      "The divisors of the number are:\n",
      "[1]\n",
      "[5]\n",
      "[25]\n",
      "[125]\n"
     ]
    }
   ],
   "source": [
    "#115\n",
    "n=int(input(\"Enter an integer(blank to quit)\"))\n",
    "print(\"The divisors of the number are:\")\n",
    "for i in range(1,n+1):\n",
    "    if(n%i==0):\n",
    "        print([i])"
   ]
  },
  {
   "cell_type": "code",
   "execution_count": 10,
   "metadata": {},
   "outputs": [
    {
     "name": "stdout",
     "output_type": "stream",
     "text": [
      "BELOW ARE ALL THE PERFECT NUMBERS TILL 10000\n",
      "6 IS A PERFECT NUMBER\n",
      "28 IS A PERFECT NUMBER\n",
      "496 IS A PERFECT NUMBER\n",
      "8128 IS A PERFECT NUMBER\n"
     ]
    }
   ],
   "source": [
    "#116\n",
    "def isPerfect(n):\n",
    "    sum = 1\n",
    "    i = 2\n",
    "    while i * i <= n:\n",
    "        if n % i == 0:\n",
    "            sum = sum + i + n/i\n",
    "        i += 1\n",
    "    return(True if sum == n and n != 1 else False)\n",
    "print(\"BELOW ARE ALL THE PERFECT NUMBERS TILL 10000\")\n",
    "n = 2\n",
    "for n in range(10000):\n",
    "    if isPerfect(n):\n",
    "        print(n,\"IS A PERFECT NUMBER\")"
   ]
  },
  {
   "cell_type": "code",
   "execution_count": 11,
   "metadata": {},
   "outputs": [
    {
     "name": "stdout",
     "output_type": "stream",
     "text": [
      "['contractions', 'include', \"don't\", \"isn't\", 'and', \"wouldn't\"]\n"
     ]
    }
   ],
   "source": [
    "#117\n",
    "def removePunctation(instr):\n",
    "    list_of_words = instr.split()\n",
    "    list_of_words = [el.lower().rstrip('\\'\\\"-,.:;!?') for el in list_of_words]\n",
    "    return list_of_words\n",
    "def main():\n",
    "    print(removePunctation(\"contractions include: don't, isn't, and, wouldn't.\"))\n",
    "if __name__ == '__main__':\n",
    "    main()"
   ]
  },
  {
   "cell_type": "code",
   "execution_count": 12,
   "metadata": {},
   "outputs": [
    {
     "name": "stdin",
     "output_type": "stream",
     "text": [
      "ENTER AN ITEM(BLANK TO QUIT) apple\n",
      "ENTER AN ITEM(BLANK TO QUIT) orange\n",
      "ENTER AN ITEM(BLANK TO QUIT) kiwi\n",
      "ENTER AN ITEM(BLANK TO QUIT) \n"
     ]
    },
    {
     "name": "stdout",
     "output_type": "stream",
     "text": [
      "THE ITEMS ARE %s apple , orange and kiwi\n"
     ]
    }
   ],
   "source": [
    "#120\n",
    "def formatList(items):\n",
    "    if len(items) == 0:\n",
    "        return \"<empty>\"\n",
    "    if len(items) ==1:\n",
    "        return str(items[0])\n",
    "    result = \"\"\n",
    "    for i in range(0,len(items) - 2):\n",
    "        result = result + str(items[i] + \" , \")\n",
    "    result = result + str(items[len(items)-2]) + \" and \"\n",
    "    result = result + str(items[len(items)-1])\n",
    "    return result\n",
    "def main():\n",
    "    items = []\n",
    "    line = input(\"ENTER AN ITEM(BLANK TO QUIT)\")\n",
    "    while line != \"\":\n",
    "        items.append(line)\n",
    "        line = input(\"ENTER AN ITEM(BLANK TO QUIT)\")\n",
    "    print(\"THE ITEMS ARE %s\",formatList(items))\n",
    "main()"
   ]
  },
  {
   "cell_type": "code",
   "execution_count": 13,
   "metadata": {},
   "outputs": [
    {
     "name": "stdout",
     "output_type": "stream",
     "text": [
      "YOUR NUMBERS ARE 61015353944\n"
     ]
    }
   ],
   "source": [
    "#121\n",
    "from random import randrange\n",
    "Min_num = 1\n",
    "Max_num = 49\n",
    "Num_nums = 6\n",
    "ticket_nums = []\n",
    "for i in range(Num_nums):\n",
    "    rand = randrange(Min_num,Max_num + 1)\n",
    "    while rand in ticket_nums:\n",
    "        rand = randrange(Min_num,Max_num + 1)\n",
    "    ticket_nums.append(rand)\n",
    "ticket_nums.sort()\n",
    "print(\"YOUR NUMBERS ARE \",end = \"\")\n",
    "for n in ticket_nums:\n",
    "    print(n,end = \"\")\n",
    "print()"
   ]
  },
  {
   "cell_type": "code",
   "execution_count": 15,
   "metadata": {},
   "outputs": [
    {
     "name": "stdin",
     "output_type": "stream",
     "text": [
      "Enter the word:  apple\n"
     ]
    },
    {
     "name": "stdout",
     "output_type": "stream",
     "text": [
      "The pig latin translation of the string is appleway\n"
     ]
    }
   ],
   "source": [
    "#122\n",
    "def pig_latin(word):\n",
    "    word = word.strip().lower()\n",
    "    const_tail = 'ay'\n",
    "    vow_tail = 'way'\n",
    "    pig_latin =''\n",
    "    isupper = ''\n",
    "    vowel = ['a','e','i','o','u']\n",
    "    for i in range(len(word)):\n",
    "        if word[0] in vowel:\n",
    "            pig_latin+=word+vow_tail\n",
    "            break\n",
    "        else:\n",
    "            if word[i] in vowel:\n",
    "                pig_latin+=word[i:]+word[0:i]+const_tail\n",
    "                break\n",
    "    return pig_latin\n",
    "\n",
    "def main():\n",
    "    word = str(input('Enter the word: '))\n",
    "    print('The pig latin translation of the string is',pig_latin(word))\n",
    "\n",
    "\n",
    "if __name__ == \"__main__\":\n",
    "    main()\n"
   ]
  },
  {
   "cell_type": "code",
   "execution_count": 16,
   "metadata": {},
   "outputs": [
    {
     "name": "stdout",
     "output_type": "stream",
     "text": [
      "THE ORGINAL DECK OF CARDS ARE\n",
      "['2h', '3h', '4h', '5h', '6h', '7h', '8h', '9h', 'Th', 'Jh', 'Qh', 'Kh', 'Ah']\n",
      "\n",
      "THE SHUFFLED DECK OF CARDS ARE\n",
      "['Jh', 'Ah', '4h', 'Qh', '9h', '5h', '8h', 'Th', '7h', '2h', '3h', 'Kh', '6h']\n"
     ]
    }
   ],
   "source": [
    "#125\n",
    "from random import randrange\n",
    "def createDeck():\n",
    "    cards = []\n",
    "    for suit in [\"h\",\"s\",\"d\",\"c\"]:\n",
    "        for value in[\"2\",\"3\",\"4\",\"5\",\"6\",\"7\",\"8\",\"9\",\"T\",\"J\",\"Q\",\"K\",\"A\"]:\n",
    "            cards.append(value + suit)\n",
    "        return cards\n",
    "def shuffle(cards):\n",
    "    for i in range(0,len(cards)):\n",
    "        other_pos = randrange(i,len(cards))\n",
    "        temp = cards[i]\n",
    "        cards[i] = cards[other_pos]\n",
    "        cards[other_pos] = temp\n",
    "def main():\n",
    "    cards = createDeck()\n",
    "    print(\"THE ORGINAL DECK OF CARDS ARE\")\n",
    "    print(cards)\n",
    "    print()\n",
    "    shuffle(cards)\n",
    "    print(\"THE SHUFFLED DECK OF CARDS ARE\")\n",
    "    print(cards)\n",
    "if __name__ == \"__main__\":\n",
    "    main()"
   ]
  },
  {
   "cell_type": "code",
   "execution_count": 17,
   "metadata": {},
   "outputs": [
    {
     "name": "stdout",
     "output_type": "stream",
     "text": [
      "True\n",
      "True\n",
      "True\n",
      "False\n",
      "False\n",
      "False\n"
     ]
    }
   ],
   "source": [
    "#127\n",
    "A=[10,9,8,3,1,0]\n",
    "B=[1,9,18,33,41,50]\n",
    "C=[1, 1, 1, 1, 1]\n",
    "D= [1]\n",
    "E=[1, 2, 3, 2, 1]\n",
    "F =[]\n",
    "\n",
    "def order(someList):\n",
    "    asc = True\n",
    "    desc = True\n",
    "\n",
    "    for idx in range(1, len(someList)):\n",
    "        if someList[idx] - someList[idx - 1] >= 0:\n",
    "            asc = asc & True\n",
    "            desc = desc & False\n",
    "        else:\n",
    "            desc = desc & True\n",
    "            asc = asc & False\n",
    "\n",
    "    if asc and not desc:\n",
    "        return True\n",
    "    elif desc and not asc:\n",
    "        return True\n",
    "    else:\n",
    "        return False\n",
    "\n",
    "print(order(A))\n",
    "print(order(B))\n",
    "print(order(C))\n",
    "print(order(D))\n",
    "print(order(E))\n",
    "print(order(F))"
   ]
  },
  {
   "cell_type": "code",
   "execution_count": 18,
   "metadata": {},
   "outputs": [
    {
     "name": "stdout",
     "output_type": "stream",
     "text": [
      "Counting the elements in [1..10] between 5 and 7...\n",
      "Result: 2 Expected: 2\n",
      "Counting the elements in [1..10] between -5 and 77...\n",
      "Result: 10 Expected: 10\n",
      "Counting the elements in [] between 12 and 17...\n",
      "Result: 0 Expected: 0\n",
      "Counting the elements in [] between 0 and 100...\n",
      "Result: 0 Expected: 0\n",
      "Counting the elements in [1, 2, 3, 4, 1, 2, 3, 4] between 2 and 4...\n",
      "Result: 4 Expected: 4\n"
     ]
    }
   ],
   "source": [
    "#128\n",
    "def countRange(data, mn, mx):\n",
    "    count = 0\n",
    "    for e in data:\n",
    "        # Check each element\n",
    "        if mn <= e and e < mx:\n",
    "            count = count + 1\n",
    "            # Return the result\n",
    "    return count\n",
    "def main():\n",
    "    data = [1, 2, 3, 4, 5, 6, 7, 8, 9, 10]\n",
    "    # Test a case where some elements are within the range\n",
    "    print(\"Counting the elements in [1..10] between 5 and 7...\")\n",
    "    print(\"Result: %d Expected: 2\" % countRange(data, 5, 7))\n",
    "    # Test a case where all elements are within the range\n",
    "    print(\"Counting the elements in [1..10] between -5 and 77...\")\n",
    "    print(\"Result: %d Expected: 10\" % countRange(data, -5, 77))\n",
    "    # Test a case where no elements are within the range\n",
    "    print(\"Counting the elements in [] between 12 and 17...\")\n",
    "    print(\"Result: %d Expected: 0\" % countRange(data, 12, 17))\n",
    "    # Test a case where the list is empty\n",
    "    print(\"Counting the elements in [] between 0 and 100...\")\n",
    "    print(\"Result: %d Expected: 0\" % countRange([], 0, 100))\n",
    "    # Test a case with duplicate values\n",
    "    data = [1, 2, 3, 4, 1, 2, 3, 4]\n",
    "    print(\"Counting the elements in\", data, \"between 2 and 4...\")\n",
    "    print(\"Result: %d Expected: 4\" % countRange(data, 2, 4))\n",
    "# Call the main program\n",
    "main()"
   ]
  },
  {
   "cell_type": "code",
   "execution_count": 19,
   "metadata": {},
   "outputs": [
    {
     "name": "stdin",
     "output_type": "stream",
     "text": [
      "ENTER ANY SYMBOL 8*9/6+5-6\n"
     ]
    },
    {
     "name": "stdout",
     "output_type": "stream",
     "text": [
      "THE TOKENS ARE: [' 8', '*', ' 9', '/', ' 6', '+', ' 5', '-', ' 6']\n"
     ]
    }
   ],
   "source": [
    "#129\n",
    "def tokenList(b):\n",
    "    b = b.replace(\" \",\"\")\n",
    "    tokens = []\n",
    "    i = 0\n",
    "    while i < len(b):\n",
    "        if b[i] == \"*\" or b[i] == \"/\" or b[i] == \"^\" or b[i] == \"(\" or b[i] == \")\" or b[i] == \"+\" or b[i] == \"-\":\n",
    "            tokens.append(b[i])\n",
    "            i = i+1\n",
    "        elif b[i] >= '0' and b[i] <= '9':\n",
    "            num = \" \"\n",
    "            while i < len(b) and b[i] >= \"0\" and b[i] <= \"9\":\n",
    "                num = num + b[i]\n",
    "                i = i + 1\n",
    "            tokens.append(num)\n",
    "        else:\n",
    "            return[]\n",
    "    return tokens\n",
    "def main():\n",
    "    exp = input(\"ENTER ANY SYMBOL\")\n",
    "    tokens = tokenList(exp)\n",
    "    print(\"THE TOKENS ARE:\",tokens)\n",
    "if __name__ == \"__main__\":\n",
    "    main()"
   ]
  },
  {
   "cell_type": "code",
   "execution_count": null,
   "metadata": {},
   "outputs": [],
   "source": []
  }
 ],
 "metadata": {
  "kernelspec": {
   "display_name": "Python 3",
   "language": "python",
   "name": "python3"
  },
  "language_info": {
   "codemirror_mode": {
    "name": "ipython",
    "version": 3
   },
   "file_extension": ".py",
   "mimetype": "text/x-python",
   "name": "python",
   "nbconvert_exporter": "python",
   "pygments_lexer": "ipython3",
   "version": "3.7.6"
  }
 },
 "nbformat": 4,
 "nbformat_minor": 4
}
