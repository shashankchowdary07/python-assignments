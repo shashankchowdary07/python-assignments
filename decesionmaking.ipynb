{
 "cells": [
  {
   "cell_type": "code",
   "execution_count": 1,
   "metadata": {},
   "outputs": [
    {
     "name": "stdin",
     "output_type": "stream",
     "text": [
      "enter any number 25\n"
     ]
    },
    {
     "name": "stdout",
     "output_type": "stream",
     "text": [
      "25 is odd.\n"
     ]
    }
   ],
   "source": [
    "#35\n",
    "n = int(input(\"enter any number\"))\n",
    "if n % 2 == 1:\n",
    "    print(n,\"is odd.\")\n",
    "else:\n",
    "    print(n,\"is even.\")\n"
   ]
  },
  {
   "cell_type": "code",
   "execution_count": 2,
   "metadata": {},
   "outputs": [
    {
     "name": "stdin",
     "output_type": "stream",
     "text": [
      "eneter a number 14\n"
     ]
    },
    {
     "name": "stdout",
     "output_type": "stream",
     "text": [
      "The dog age in dog's years is 69\n"
     ]
    }
   ],
   "source": [
    "#36\n",
    "human_age = int(input(\"eneter a number\"))\n",
    "if human_age <= 2:\n",
    "    dog_age = human_age * 10.5\n",
    "else:\n",
    "    dog_age = 21 + (human_age - 2)*4\n",
    "print(\"The dog age in dog's years is\",dog_age)\n",
    "    "
   ]
  },
  {
   "cell_type": "code",
   "execution_count": 4,
   "metadata": {},
   "outputs": [
    {
     "name": "stdin",
     "output_type": "stream",
     "text": [
      "ENTER A LETTER a\n"
     ]
    },
    {
     "name": "stdout",
     "output_type": "stream",
     "text": [
      "ENTERED LETTER IS VOWEL\n"
     ]
    }
   ],
   "source": [
    "#37\n",
    "letter = input(\"ENTER A LETTER\")\n",
    "if letter == \"a\"or letter ==\"e\" or letter ==\"i\" or letter ==\"o\" or letter ==\"u\":\n",
    "    print(\"ENTERED LETTER IS VOWEL\")\n",
    "elif letter == \"y\":\n",
    "    print(\"it may be vowel or consonant\")\n",
    "else:\n",
    "    print(\"ENTERED LETTER IS CONSONANT\")"
   ]
  },
  {
   "cell_type": "code",
   "execution_count": 6,
   "metadata": {},
   "outputs": [
    {
     "name": "stdin",
     "output_type": "stream",
     "text": [
      "ENTER THE NUMBER OF SIDES 5\n"
     ]
    },
    {
     "name": "stdout",
     "output_type": "stream",
     "text": [
      "that's a  pentagon\n"
     ]
    }
   ],
   "source": [
    "#38\n",
    "nsides = int(input(\"ENTER THE NUMBER OF SIDES\"))\n",
    "name =\"\"\n",
    "if nsides == 3:\n",
    "    name = \"triangle\"\n",
    "elif nsides == 4:\n",
    "    \n",
    "    name = \"quadrilateral\"\n",
    "elif nsides == 5:\n",
    "    name = \"pentagon\"\n",
    "elif nsides == 6:\n",
    "    name = \"hexagon\"\n",
    "elif nsides == 7:\n",
    "    name = \"heptagon\"\n",
    "elif nsides == 8:\n",
    "    name = \"octagon\"\n",
    "elif nsides == 9:\n",
    "    name = \"nonagon\"\n",
    "elif nsides == 10:\n",
    "    name = \"decagon\"\n",
    "if name == \"\":\n",
    "    print(\"error\")\n",
    "else:\n",
    "    print(\"that's a \",name)"
   ]
  },
  {
   "cell_type": "code",
   "execution_count": 7,
   "metadata": {},
   "outputs": [
    {
     "name": "stdin",
     "output_type": "stream",
     "text": [
      "ENTER THE NAME OF THE MONTH june\n"
     ]
    },
    {
     "name": "stdout",
     "output_type": "stream",
     "text": [
      "GIVEN MONTH HAS 30 DAYS IN IT\n"
     ]
    }
   ],
   "source": [
    "#39\n",
    "month = input(\"ENTER THE NAME OF THE MONTH\")\n",
    "days = 31\n",
    "if month == \"april\" or month == \"june\" or month == \"september\" or month == \"november\":\n",
    "    days = 30\n",
    "elif month == \"january\" or month == \"march\" or month == \"may\" or month == \"july\" or month == \"august\" or month == \"october\" or month == \"december\":\n",
    "    days = 31\n",
    "elif month == \"february\":\n",
    "    days == \"28 or 29\"\n",
    "print(\"GIVEN MONTH HAS\",days,\"DAYS IN IT\")\n",
    "    \n",
    "    "
   ]
  },
  {
   "cell_type": "code",
   "execution_count": 8,
   "metadata": {},
   "outputs": [
    {
     "name": "stdin",
     "output_type": "stream",
     "text": [
      "ENTER THE SOUND IN DECIBEL LEVEL 44\n"
     ]
    },
    {
     "name": "stdout",
     "output_type": "stream",
     "text": [
      "The sound is close to alaram clock\n"
     ]
    }
   ],
   "source": [
    "#40\n",
    "decibel = float(input(\"ENTER THE SOUND IN DECIBEL LEVEL\"))\n",
    "if decibel>0 and decibel <40:\n",
    "    print(\"the sound is close to quite room\")\n",
    "elif decibel ==40:\n",
    "    print(\"The sound is quite room sound\")\n",
    "elif decibel >40 and decibel <70:\n",
    "    print(\"The sound is close to alaram clock\")\n",
    "elif decibel == 70:\n",
    "    print(\"the sound is alaram clock\")\n",
    "elif decibel > 70 and decibel < 106:\n",
    "    print(\"the sound is close to gas lawnmover\")\n",
    "elif decibel == 106:\n",
    "    print(\"The sound is gas lawnmover\")"
   ]
  },
  {
   "cell_type": "code",
   "execution_count": 9,
   "metadata": {},
   "outputs": [
    {
     "name": "stdin",
     "output_type": "stream",
     "text": [
      "ENTER THE LENGHT OF FIRST SIDE 14\n",
      "ENTER THE LENGHT OF SECOND SIDE 15\n",
      "ENTER THE LENGHT OF THIRD SIDE 13\n"
     ]
    },
    {
     "name": "stdout",
     "output_type": "stream",
     "text": [
      "THE GIVEN TRIANGLE IS scalene\n"
     ]
    }
   ],
   "source": [
    "#41\n",
    "side1 = float(input(\"ENTER THE LENGHT OF FIRST SIDE\"))\n",
    "side2 = float(input(\"ENTER THE LENGHT OF SECOND SIDE\"))\n",
    "side3 = float(input(\"ENTER THE LENGHT OF THIRD SIDE\"))\n",
    "if side1 == side2 == side3:\n",
    "    tri_type = \"equilateral\"\n",
    "elif side1==side2 or side2==side3 or side1==side3:\n",
    "    tri_type = \"isosceles\"\n",
    "else:\n",
    "    tri_type = \"scalene\"\n",
    "print(\"THE GIVEN TRIANGLE IS\",tri_type)\n"
   ]
  }
 ],
 "metadata": {
  "kernelspec": {
   "display_name": "Python 3",
   "language": "python",
   "name": "python3"
  },
  "language_info": {
   "codemirror_mode": {
    "name": "ipython",
    "version": 3
   },
   "file_extension": ".py",
   "mimetype": "text/x-python",
   "name": "python",
   "nbconvert_exporter": "python",
   "pygments_lexer": "ipython3",
   "version": "3.7.6"
  }
 },
 "nbformat": 4,
 "nbformat_minor": 4
}
